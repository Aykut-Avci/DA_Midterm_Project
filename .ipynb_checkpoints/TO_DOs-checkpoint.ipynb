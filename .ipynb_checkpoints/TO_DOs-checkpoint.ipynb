{
 "cells": [
  {
   "cell_type": "markdown",
   "id": "20723804",
   "metadata": {},
   "source": [
    "# PRODUCTION DATA"
   ]
  },
  {
   "cell_type": "markdown",
   "id": "7d807785",
   "metadata": {},
   "source": [
    "## SPLIT numerical and categorical features\n",
    "\n",
    "- NUMERICAL FEATURES\n",
    "* GEOMETRY+:\n",
    "    - ns1 features\n",
    "    - ns2 features\n",
    "    - oeo_oeo\n",
    "    - piezo_phase\n",
    "* FUNCTION:\n",
    "    - volumes (bqc, et1, ft1, ek)\n",
    "    - voltages (=spannung) (bqc, et1, ft1, ek)\n",
    "    - pulse (bqc, et1, ft1, ek)"
   ]
  },
  {
   "cell_type": "markdown",
   "id": "99764074",
   "metadata": {},
   "source": [
    "## Initial EDA of numerical data\n",
    "\n",
    "- distribution plots with df_numerical"
   ]
  },
  {
   "cell_type": "code",
   "execution_count": null,
   "id": "aabb9047",
   "metadata": {},
   "outputs": [],
   "source": []
  },
  {
   "cell_type": "markdown",
   "id": "cbb2ac98",
   "metadata": {},
   "source": [
    "## DEALING with NaN values in different columns\n",
    "\n",
    "- produktion_groesse --> fill with 0\n",
    "- ns1 features --> MUST ALL ALREADY HAVE VALUES\n",
    "- ns2 features --> \n",
    "    - ns2_center_variation [ns2_cv] --> fill with mean / median?\n",
    "    - ns2_front_angle [ns2_fa] --> fill with mean / median?\n",
    "    - ns2_curve [ns2_curve] --> fill with mean / median?\n",
    "    - ns2_15xlength [ns1_15x] --> \n",
    "    - ns2_parabolic_factor [ns2_pf] --> "
   ]
  },
  {
   "cell_type": "markdown",
   "id": "26330e34",
   "metadata": {},
   "source": [
    "## FIX clean_personal_names()\n",
    "- operator initials are not ascribed correctly\n",
    "    - somehow schmelzen_operator entries get turned to NaN"
   ]
  },
  {
   "cell_type": "code",
   "execution_count": null,
   "id": "c7f4a3ee",
   "metadata": {},
   "outputs": [],
   "source": []
  },
  {
   "cell_type": "code",
   "execution_count": null,
   "id": "59f8611f",
   "metadata": {},
   "outputs": [],
   "source": []
  },
  {
   "cell_type": "markdown",
   "id": "0e769e9d",
   "metadata": {},
   "source": [
    "# CUSTOMER DATA"
   ]
  },
  {
   "cell_type": "markdown",
   "id": "6a30f898",
   "metadata": {},
   "source": [
    "## CREATE new columns with anonymized data"
   ]
  },
  {
   "cell_type": "code",
   "execution_count": null,
   "id": "5ff5e95b",
   "metadata": {},
   "outputs": [],
   "source": []
  }
 ],
 "metadata": {
  "kernelspec": {
   "display_name": "Python 3 (ipykernel)",
   "language": "python",
   "name": "python3"
  },
  "language_info": {
   "codemirror_mode": {
    "name": "ipython",
    "version": 3
   },
   "file_extension": ".py",
   "mimetype": "text/x-python",
   "name": "python",
   "nbconvert_exporter": "python",
   "pygments_lexer": "ipython3",
   "version": "3.9.12"
  },
  "toc": {
   "base_numbering": 1,
   "nav_menu": {},
   "number_sections": true,
   "sideBar": true,
   "skip_h1_title": false,
   "title_cell": "Table of Contents",
   "title_sidebar": "Contents",
   "toc_cell": false,
   "toc_position": {},
   "toc_section_display": true,
   "toc_window_display": true
  },
  "varInspector": {
   "cols": {
    "lenName": 16,
    "lenType": 16,
    "lenVar": 40
   },
   "kernels_config": {
    "python": {
     "delete_cmd_postfix": "",
     "delete_cmd_prefix": "del ",
     "library": "var_list.py",
     "varRefreshCmd": "print(var_dic_list())"
    },
    "r": {
     "delete_cmd_postfix": ") ",
     "delete_cmd_prefix": "rm(",
     "library": "var_list.r",
     "varRefreshCmd": "cat(var_dic_list()) "
    }
   },
   "types_to_exclude": [
    "module",
    "function",
    "builtin_function_or_method",
    "instance",
    "_Feature"
   ],
   "window_display": false
  }
 },
 "nbformat": 4,
 "nbformat_minor": 5
}
