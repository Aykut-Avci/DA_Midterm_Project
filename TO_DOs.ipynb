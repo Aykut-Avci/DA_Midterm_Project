{
 "cells": [
  {
   "cell_type": "markdown",
   "id": "20723804",
   "metadata": {},
   "source": [
    "# PRODUCTION DATA"
   ]
  },
  {
   "cell_type": "markdown",
   "id": "7d807785",
   "metadata": {},
   "source": [
    "## SPLIT numerical and categorical features\n",
    "\n",
    "- **NUMERICAL FEATURES** (sum = 23 columns)\n",
    "* GEOMETRY+:\n",
    "    - ns1 features (ns1_durchmesser_vorne, ns1_durchmesser_hinten, ns1_winkel_vorne, ns1_winkel_hinten) | 4 ✅\n",
    "    - ns2 features (ns2_parabolic_factor, ns2_15xlength, ns2_center_variation, ns2_curve, ns2_front_angle | 5 ✅\n",
    "    - oeo_oeo | 1 ✅\n",
    "    - piezo_phase | 1 ✅\n",
    "* FUNCTION:\n",
    "    - volumes (bqc, et1, ft1, ek) | 4 ✅\n",
    "    - voltages (=spannung) (bqc, et1, ft1, ek) | 4 ✅\n",
    "    - pulse (bqc, et1, ft1, ek) | 4 ✅\n",
    "    \n",
    "- **CATEGORICAL FEATURES** (all other columns (146) minus 23 numerical columns; ergo 126 columns)\n",
    "- produktion_groesse\n",
    "- familie\n",
    "- art\n",
    "- all personal cols"
   ]
  },
  {
   "cell_type": "markdown",
   "id": "99764074",
   "metadata": {},
   "source": [
    "## Initial EDA of numerical data\n",
    "\n",
    "- distribution plots with df_numerical"
   ]
  },
  {
   "cell_type": "code",
   "execution_count": null,
   "id": "aabb9047",
   "metadata": {},
   "outputs": [],
   "source": []
  },
  {
   "cell_type": "markdown",
   "id": "cbb2ac98",
   "metadata": {},
   "source": [
    "## DEALING with NaN values in different columns\n",
    "\n",
    "**NUMERICALS**\n",
    "- produktion_groesse --> fill with 1\n",
    "- ns1 features --> MUST ALL ALREADY HAVE VALUES\n",
    "- ns2 features \n",
    "    - ns2_center_variation [ns2_cv] --> **fill with mean**\n",
    "    - ns2_front_angle [ns2_fa] --> **fill with mean**\n",
    "    - ns2_curve [ns2_curve] --> **fill with mean**\n",
    "    \n",
    "    - ns2_15xlength [ns1_15x] --> **fill with mean**                ( / median of respective size group)\n",
    "    - ns2_parabolic_factor [ns2_pf] --> **fill with mean**                ( / median of respective size group)\n",
    "- piezo_phase\n",
    "    - NaN --> 70\n",
    "    - 0 --> 70\n",
    "\n",
    "**CATEGORICAL**\n",
    "- kleben1_kleber_teilentnahme --> fill NaN with median of column / turn everything >5 into median\n",
    "- kleben1_ort --> semi-random --> 67% \"Berlin\" + 33% \"Dortmund\"\n",
    "- kleben2_kleber_teilentnahme --> fill NaN with median of column / turn everything >7 into median\n",
    "- kleben2_ort --> semi-random --> 67% \"Berlin\" + 33% \"Dortmund\""
   ]
  },
  {
   "cell_type": "markdown",
   "id": "26330e34",
   "metadata": {},
   "source": [
    "## FIX clean_personal_names()\n",
    "- operator initials are not ascribed correctly\n",
    "    - somehow schmelzen_operator entries get turned to NaN"
   ]
  },
  {
   "cell_type": "code",
   "execution_count": null,
   "id": "c7f4a3ee",
   "metadata": {},
   "outputs": [],
   "source": []
  },
  {
   "cell_type": "code",
   "execution_count": null,
   "id": "59f8611f",
   "metadata": {},
   "outputs": [],
   "source": []
  },
  {
   "cell_type": "markdown",
   "id": "0e769e9d",
   "metadata": {},
   "source": [
    "# CUSTOMER DATA"
   ]
  },
  {
   "cell_type": "markdown",
   "id": "6a30f898",
   "metadata": {},
   "source": [
    "## CREATE new columns with anonymized data"
   ]
  },
  {
   "cell_type": "code",
   "execution_count": null,
   "id": "5ff5e95b",
   "metadata": {},
   "outputs": [],
   "source": []
  },
  {
   "cell_type": "markdown",
   "id": "16ff687b",
   "metadata": {},
   "source": [
    "## To Anonymize\n",
    "\n",
    "- customer name --> new column ==> customer IDs <br>\n",
    "- [XDC] PDC / PDC-C / NDC --> P1, P2, P3 | DONE <br>\n",
    "- XDC --> rename ==> product_family <br>\n",
    "- [Size] 50 / 60 / 70 / 80 / 90 / 100 --> 00 / 10 / 20 / 30 / 40 / 50 <br>\n",
    "- [Size] CS / CM / CL --> C1 / C2 / C3 <br>\n",
    "- [Size] NL / NM / NH --> N1 / N2 / N3  <br>\n",
    "- [Size] N200 / N300 / N400 --> N4 / N5 / N6 <br>\n",
    "- [Size] sN100 / sN200 / sN300 / sN400 / sN500 --> N7 / N8 / N9 / N10 / N11 <br>\n",
    "- [Coating] T0 / T1 / T2 / T3 / T4 / T1sym --> B0 / B1 / B2 / B3 / B4 / B5 <br>\n",
    "- Machines!"
   ]
  }
 ],
 "metadata": {
  "kernelspec": {
   "display_name": "Python 3 (ipykernel)",
   "language": "python",
   "name": "python3"
  },
  "language_info": {
   "codemirror_mode": {
    "name": "ipython",
    "version": 3
   },
   "file_extension": ".py",
   "mimetype": "text/x-python",
   "name": "python",
   "nbconvert_exporter": "python",
   "pygments_lexer": "ipython3",
   "version": "3.9.12"
  },
  "toc": {
   "base_numbering": 1,
   "nav_menu": {},
   "number_sections": true,
   "sideBar": true,
   "skip_h1_title": false,
   "title_cell": "Table of Contents",
   "title_sidebar": "Contents",
   "toc_cell": false,
   "toc_position": {},
   "toc_section_display": true,
   "toc_window_display": true
  },
  "varInspector": {
   "cols": {
    "lenName": 16,
    "lenType": 16,
    "lenVar": 40
   },
   "kernels_config": {
    "python": {
     "delete_cmd_postfix": "",
     "delete_cmd_prefix": "del ",
     "library": "var_list.py",
     "varRefreshCmd": "print(var_dic_list())"
    },
    "r": {
     "delete_cmd_postfix": ") ",
     "delete_cmd_prefix": "rm(",
     "library": "var_list.r",
     "varRefreshCmd": "cat(var_dic_list()) "
    }
   },
   "types_to_exclude": [
    "module",
    "function",
    "builtin_function_or_method",
    "instance",
    "_Feature"
   ],
   "window_display": false
  }
 },
 "nbformat": 4,
 "nbformat_minor": 5
}
