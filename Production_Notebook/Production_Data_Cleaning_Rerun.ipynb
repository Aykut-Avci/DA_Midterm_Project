{
 "cells": [
  {
   "cell_type": "markdown",
   "metadata": {},
   "source": [
    "# GOAL OF THE PROJECT\n",
    "\n",
    "**`Predict target feature first and foremost by geometrical parameters`**"
   ]
  },
  {
   "cell_type": "markdown",
   "metadata": {},
   "source": [
    "# IMPORTING LIBRARIES"
   ]
  },
  {
   "cell_type": "code",
   "execution_count": 110,
   "metadata": {
    "scrolled": true
   },
   "outputs": [
    {
     "name": "stdout",
     "output_type": "stream",
     "text": [
      "Packages loaded!\n"
     ]
    }
   ],
   "source": [
    "import pandas as pd\n",
    "pd.options.display.max_columns = None\n",
    "pd.options.display.float_format = '{:.2f}'.format\n",
    "import numpy as np\n",
    "import matplotlib.pyplot as plt\n",
    "import matplotlib.dates as mdates\n",
    "from matplotlib import cm as cmaps\n",
    "%matplotlib inline\n",
    "import warnings\n",
    "warnings.filterwarnings('ignore')\n",
    "import datetime as dt\n",
    "import re\n",
    "import seaborn as sns\n",
    "from scipy import stats\n",
    "import random\n",
    "from sklearn.preprocessing import StandardScaler\n",
    "from sklearn.preprocessing import quantile_transform\n",
    "from sklearn.preprocessing import minmax_scale\n",
    "from sklearn.preprocessing import OneHotEncoder  ##. better to use dummy from pandas \n",
    "from sklearn.preprocessing import PowerTransformer\n",
    "from scipy.stats import boxcox\n",
    "from sklearn.linear_model import LinearRegression\n",
    "from sklearn.model_selection import train_test_split\n",
    "import statsmodels.api as sm\n",
    "from scipy.stats import boxcox\n",
    "from scipy.stats import pearsonr\n",
    "from sklearn.metrics import r2_score\n",
    "from sklearn.metrics import mean_squared_error as mse\n",
    "from sklearn.metrics import mean_absolute_error as mae\n",
    "from IPython.display import Image\n",
    "\n",
    "print(\"Packages loaded!\")"
   ]
  },
  {
   "cell_type": "code",
   "execution_count": 111,
   "metadata": {},
   "outputs": [],
   "source": [
    "savepath = r\"C:\\Users\\p.kollhof\\Documents\\IRONHACK_GitHub\\DA_Midterm_Project\\Images\\\\\""
   ]
  },
  {
   "cell_type": "markdown",
   "metadata": {},
   "source": [
    "# Pipeline Controller"
   ]
  },
  {
   "cell_type": "markdown",
   "metadata": {},
   "source": [
    "df = load_original_data()\n",
    "df_cleaned = delete_unncessary_columns(df)\n",
    "df_cleaned = make_columns_lowercase(df_cleaned)\n",
    "df_cleaned = delete_non_legit_XDC_IDs(df_cleaned)\n",
    "df_cleaned, date_columns = date_columns_transform_into_datetime(df_cleaned)\n",
    "df_cleaned = delete_rows_with_nan_in_selected_cols(df_cleaned, [\"schmelzen_datum\", \"ns1_datum\"])\n",
    "df_cleaned = substitute_familie_int_str(df_cleaned)\n",
    "df_cleaned = add_date_month_string_columns(df_cleaned, date_columns)\n",
    "df_cleaned = string_comma_to_dot_float(df_cleaned)\n",
    "#df_cleaned = clean_personal_names(df_cleaned)"
   ]
  },
  {
   "cell_type": "markdown",
   "metadata": {},
   "source": [
    "# READ DATA INTO DATAFRAME FROM EXISTING .CSV"
   ]
  },
  {
   "cell_type": "code",
   "execution_count": 112,
   "metadata": {},
   "outputs": [],
   "source": [
    "def load_original_data():\n",
    "    \"\"\"\n",
    "    Read production data and parse into pandas dataframe.\n",
    "    \"\"\"\n",
    "    latest_file = r\"C:\\Users\\p.kollhof\\Documents\\IRONHACK_GitHub\\DA_Midterm_Project\\_Data\\Production_Data.csv\"\n",
    "    df_prod_whole = pd.read_csv(latest_file, sep=\";\", encoding = \"ISO-8859-1\")\n",
    "    \n",
    "    return df_prod_whole\n",
    "\n",
    "df_prod_whole = load_original_data()"
   ]
  },
  {
   "cell_type": "markdown",
   "metadata": {},
   "source": [
    "# DF CLEANING"
   ]
  },
  {
   "cell_type": "markdown",
   "metadata": {},
   "source": [
    "## Make columns lowercase and fix syntax"
   ]
  },
  {
   "cell_type": "code",
   "execution_count": 113,
   "metadata": {},
   "outputs": [],
   "source": [
    "def make_columns_lowercase(df):\n",
    "    \n",
    "    lower_cols = [i.lower().replace(\" \", \"_\").replace(\"-\", \"_\") for i in df.columns]\n",
    "    df.columns = lower_cols    \n",
    "    \n",
    "    return df\n",
    "\n",
    "df_cleaned = make_columns_lowercase(df_prod_whole)"
   ]
  },
  {
   "cell_type": "markdown",
   "metadata": {},
   "source": [
    "## Remove rows with Nozzle-ID > `68.000`"
   ]
  },
  {
   "cell_type": "code",
   "execution_count": 114,
   "metadata": {},
   "outputs": [],
   "source": [
    "def delete_rows_with_XDC_ID_pre_68k(df):\n",
    "    \"\"\"\n",
    "    Delete all entries before XDC-ID 68.000 due to them having partially corrupted / wrong data.\n",
    "    \"\"\"\n",
    "    \n",
    "    df = df[df[\"pdc_nummer\"]>=68000]\n",
    "    \n",
    "    return df\n",
    "\n",
    "df_cleaned = delete_rows_with_XDC_ID_pre_68k(df_cleaned)"
   ]
  },
  {
   "cell_type": "markdown",
   "metadata": {},
   "source": [
    "## Delete unncessary/empty colums"
   ]
  },
  {
   "cell_type": "code",
   "execution_count": 115,
   "metadata": {
    "scrolled": true
   },
   "outputs": [
    {
     "name": "stdout",
     "output_type": "stream",
     "text": [
      "Number of columns/features before dropping them:  195\n"
     ]
    }
   ],
   "source": [
    "print(\"Number of columns/features before dropping them: \", len(df_cleaned.columns))"
   ]
  },
  {
   "cell_type": "code",
   "execution_count": 116,
   "metadata": {
    "tags": []
   },
   "outputs": [],
   "source": [
    "def delete_unncessary_columns(df):\n",
    "    \"\"\"\n",
    "    Delete columns only containing NaN values or columns with effectively useless data\n",
    "    due to being primarily process and not geometrically or functionally related\n",
    "    \"\"\"\n",
    "    #try:\n",
    "    columns_to_drop = []    \n",
    "\n",
    "    partial_col_strings_to_drop = [\"datum\", \"wt1\", \"wt2\", \"ort\", \"geraet\", \"defekt\", \"charge\",\n",
    "                                  \"kommentar\", \"offset\", \"uebergabe\", \"id\", \"kanal\", \"version\",\n",
    "                                  \"coating\", \"versand\", \"shore\", \"auslenkung\", \"et2\", \"ft2\",\n",
    "                                  \"schneiden\", \"schleifen\", \"assembl\", \"grenzwert\", \"personal\", \"linear\"] #\n",
    "\n",
    "    for drop_col in partial_col_strings_to_drop:\n",
    "        columns_to_drop.extend([col for col in df.columns if drop_col in col.lower()])\n",
    "\n",
    "    columns_to_drop.extend(['versand_intern',\n",
    "                             'ssma_timestamp',\n",
    "                             'assembley_teflonschlauch_charge',\n",
    "                             'pdc_nummer',\n",
    "                             'dose', \"ft1_typ\", \"ek_groesse\"])\n",
    "    \n",
    "    df.drop(columns=columns_to_drop, inplace=True)\n",
    "\n",
    "    #except:\n",
    "        #raise ValueError(\"Deleting columns was unsuccessful!\")\n",
    "    \n",
    "    return df\n",
    "\n",
    "df_cleaned = delete_unncessary_columns(df_cleaned)"
   ]
  },
  {
   "cell_type": "code",
   "execution_count": 117,
   "metadata": {},
   "outputs": [
    {
     "name": "stdout",
     "output_type": "stream",
     "text": [
      "Number of columns/features after dropping them:  29\n"
     ]
    }
   ],
   "source": [
    "print(\"Number of columns/features after dropping them: \", len(df_cleaned.columns))"
   ]
  },
  {
   "cell_type": "markdown",
   "metadata": {},
   "source": [
    "## Drop unnecessary `Familie` type"
   ]
  },
  {
   "cell_type": "markdown",
   "metadata": {},
   "source": [
    "Only keep one of the three product families. <br>\n",
    "Family 3 is of a totally different kind, that's why they are dropped. <br>\n",
    "Family 2 is a subcategory of 1, with comparable volumes but key differences in one core geometrical parameter; that's why only 1 is kept."
   ]
  },
  {
   "cell_type": "code",
   "execution_count": 118,
   "metadata": {},
   "outputs": [],
   "source": [
    "def substitute_familie_int_str(df):\n",
    "    \"\"\"\n",
    "    Only keep PDCs (1) // PDC-Cs \n",
    "    \"\"\"\n",
    "    \n",
    "    df = df[(df[\"familie\"]==1)]\n",
    "        \n",
    "    return df\n",
    "\n",
    "df_cleaned = substitute_familie_int_str(df_cleaned)"
   ]
  },
  {
   "cell_type": "markdown",
   "metadata": {},
   "source": [
    "## Turn string-comma-values into dot-float-values"
   ]
  },
  {
   "cell_type": "code",
   "execution_count": 119,
   "metadata": {},
   "outputs": [],
   "source": [
    "def string_comma_to_dot_float(df):\n",
    "    \"\"\"\n",
    "    Cast string-comma-values as dot-float-values\n",
    "    \"\"\"\n",
    "    cols_to_use = ['ns1_winkel_vorne','ns1_winkel_hinten','ns1_durchmesser_vorne','ns1_durchmesser_hinten',\n",
    "               \"ns2_center_variation\", \"ns2_front_angle\",\"ns2_curve\",\"ns2_15xlength\",\n",
    "               \"ns2_parabolic_factor\",\"oeo_oeo\", \"piezo_phase\", \"piezo_position\"] #, \"ns2_linear_factor\"\n",
    "\n",
    "    for column in cols_to_use:\n",
    "        df[column] = [float(str(x).replace(',','.')) for x in df[column]] \n",
    "     \n",
    "    return df\n",
    "\n",
    "df_cleaned = string_comma_to_dot_float(df_cleaned)"
   ]
  },
  {
   "cell_type": "markdown",
   "metadata": {},
   "source": [
    "## Rename different columns to anonymize them"
   ]
  },
  {
   "cell_type": "code",
   "execution_count": 120,
   "metadata": {},
   "outputs": [],
   "source": [
    "def anonymize_column_names(df):\n",
    "    \"\"\"\n",
    "    Rename original column names to anonymized form.\n",
    "    \"\"\"\n",
    "    df.rename(columns={'produktion_groesse': \"production_size\",\n",
    "                         'familie': \"product_family\",\n",
    "                         'art': \"product_kind\",\n",
    "                         'ns1_winkel_vorne': \"g_param_1a\",\n",
    "                         'ns1_winkel_hinten': \"g_param_1b\",\n",
    "                         'ns1_durchmesser_vorne': \"g_param_2a\",\n",
    "                         'ns1_durchmesser_hinten': \"g_param_2b\",\n",
    "                         'ns2_center_variation': \"g_param_3a\",\n",
    "                         'ns2_front_angle': \"g_param_3b\",\n",
    "                         'ns2_curve': \"g_param_3c\",\n",
    "                         'ns2_15xlength': \"g_param_3d\",\n",
    "                         'ns2_parabolic_factor': \"g_param_3e\",\n",
    "                         'oeo_oeo': \"g_param_4\",\n",
    "                         'kleben1_kleber_teilentnahme': \"misc_take_1\",\n",
    "                         'kleben2_kleber_teilentnahme': \"misc_take_2\",\n",
    "                         'bqc_spannung': \"qc1_param_1a\",\n",
    "                         'bqc_puls': \"qc1_param_1b\",\n",
    "                         'bqc_volumen': \"qc1_param_volume\",\n",
    "                         'et1_spannung': \"qc2_param_1a\",\n",
    "                         'et1_puls': \"qc2_param_1b\",\n",
    "                         'et1_volumen': \"qc2_param_volume\",\n",
    "                         'ft1_spannung': \"qc3_param_1a\",\n",
    "                         'ft1_puls': \"qc3_param_1b\",\n",
    "                         'ft1_volumen': \"qc3_param_volume\",\n",
    "                         'ek_spannung': \"qc4_param_1a\",\n",
    "                         'ek_puls': \"qc4_param_1b\",\n",
    "                         'ek_volumen': \"qc4_param_volume\",\n",
    "                         'piezo_position': \"p_misc_pos\",\n",
    "                         'piezo_phase': \"p_misc_phase\"}, inplace=True)\n",
    "   \n",
    "    return df\n",
    "\n",
    "df_cleaned = anonymize_column_names(df_cleaned)"
   ]
  },
  {
   "cell_type": "markdown",
   "metadata": {},
   "source": [
    "# INITIAL EDA"
   ]
  },
  {
   "cell_type": "markdown",
   "metadata": {},
   "source": [
    "## Check NaN distribution in features before processing"
   ]
  },
  {
   "cell_type": "code",
   "execution_count": 121,
   "metadata": {
    "scrolled": true
   },
   "outputs": [
    {
     "data": {
      "image/png": "[encoded data removed]",
      "text/plain": [
       "<Figure size 864x504 with 1 Axes>"
      ]
     },
     "metadata": {
      "needs_background": "light"
     },
     "output_type": "display_data"
    }
   ],
   "source": [
    "column_names = list(df_cleaned.isna().sum().index)\n",
    "column_nan_count = list(df_cleaned.isna().sum())\n",
    "column_lens = [len(df_cleaned)] * len(df_cleaned.columns)\n",
    "column_nan_perc = [round((column_nan_count[idx]/column_lens[idx])*100,2)\n",
    "                   for idx, col in enumerate(column_nan_count)]\n",
    "\n",
    "df_nan_distribution = pd.DataFrame()\n",
    "df_nan_distribution[\"Feature\"] = column_names\n",
    "df_nan_distribution[\"NaN %\"] = column_nan_perc\n",
    "\n",
    "y = column_names[::-1]\n",
    "height = column_nan_perc[::-1]\n",
    "plt.figure(figsize=(12,7))\n",
    "plt.title(\"NaN distribution of features before processing\", size=14, weight=\"bold\")\n",
    "plt.grid(ls=\"--\", color=\"k\", alpha=0.2, axis=\"x\")\n",
    "plt.barh(y, height)\n",
    "plt.xticks(range(0,105,10))\n",
    "plt.savefig(savepath + \"NaN_Dist_Features_b4_processing.png\", bbox_inches=\"tight\", dpi=300, transparent=True)\n",
    "plt.show()"
   ]
  },
  {
   "cell_type": "markdown",
   "metadata": {},
   "source": [
    "## Initial EDA pairplot"
   ]
  },
  {
   "cell_type": "markdown",
   "metadata": {},
   "source": [
    "sns.pairplot(df_cleaned)"
   ]
  },
  {
   "cell_type": "markdown",
   "metadata": {},
   "source": [
    "# PROCESSING DATA"
   ]
  },
  {
   "cell_type": "markdown",
   "metadata": {},
   "source": [
    "## Show relationship between volume, qc_param_1a, qc_param_1b in different QCs"
   ]
  },
  {
   "cell_type": "code",
   "execution_count": null,
   "metadata": {},
   "outputs": [],
   "source": [
    "df_qc_vol_check = df_cleaned[[\"qc1_param_volume\", \"qc2_param_volume\", \"qc3_param_volume\", \"qc4_param_volume\"]]\n",
    "df_qc_vol_check = df_qc_vol_check[(df_qc_vol_check>150) & (df_qc_vol_check<700)]\n",
    "df_qc_vol_check.dropna(axis=0, inplace=True)\n",
    "df_qc_vol_check.reset_index(drop=True, inplace=True)\n",
    "\n",
    "# CREATE PAIRPLOT TO SHOW CORRELATIONS OF DIFFERENT QC VOLUME STEPS\n",
    "# DISPLAY CORRELATION (Pearson) IN RESPECTIVE PLOTS\n",
    "\n",
    "def corrfunc(x, y, hue=None, ax=None, **kws):\n",
    "    \"\"\"Plot the correlation coefficient in the top left hand corner of a plot.\"\"\"\n",
    "    r, _ = pearsonr(x, y)\n",
    "    ax = ax or plt.gca()\n",
    "    text = ax.annotate(f'ρ = {r:.2f}', xy=(.1, .9), xycoords=ax.transAxes)\n",
    "    text.set_bbox(dict(facecolor='grey', edgecolor='k'))\n",
    "\n",
    "p = sns.pairplot(df_qc_vol_check)\n",
    "p.map_lower(corrfunc)\n",
    "plt.savefig(savepath + \"Pairplot_qc_volumes.jpg\", bbox_inches=\"tight\", dpi=300)\n",
    "savepath\n",
    "plt.show()"
   ]
  },
  {
   "cell_type": "code",
   "execution_count": null,
   "metadata": {
    "scrolled": false
   },
   "outputs": [],
   "source": [
    "df_qc_vol_check = df_cleaned[[\"qc1_param_1a\", \"qc2_param_1a\", \"qc3_param_1a\", \"qc4_param_1a\"]]\n",
    "df_qc_vol_check = df_qc_vol_check[(df_qc_vol_check>50) & (df_qc_vol_check<170)]\n",
    "df_qc_vol_check.dropna(axis=0, inplace=True)\n",
    "df_qc_vol_check.reset_index(drop=True, inplace=True)\n",
    "\n",
    "# CREATE PAIRPLOT TO SHOW CORRELATIONS OF DIFFERENT QC VOLUME STEPS\n",
    "# DISPLAY CORRELATION (Pearson) IN RESPECTIVE PLOTS\n",
    "\n",
    "def corrfunc(x, y, hue=None, ax=None, **kws):\n",
    "    \"\"\"Plot the correlation coefficient in the top left hand corner of a plot.\"\"\"\n",
    "    r, _ = pearsonr(x, y)\n",
    "    ax = ax or plt.gca()\n",
    "    text = ax.annotate(f'ρ = {r:.2f}', xy=(.1, .9), xycoords=ax.transAxes)\n",
    "    text.set_bbox(dict(facecolor='grey', edgecolor='k'))\n",
    "\n",
    "p = sns.pairplot(df_qc_vol_check)\n",
    "p.map_lower(corrfunc)\n",
    "plt.savefig(savepath + \"Pairplot_qc_param_1a.jpg\", bbox_inches=\"tight\", dpi=300)\n",
    "plt.show()"
   ]
  },
  {
   "cell_type": "code",
   "execution_count": null,
   "metadata": {},
   "outputs": [],
   "source": [
    "df_qc_vol_check = df_cleaned[[\"qc1_param_1b\", \"qc2_param_1b\", \"qc3_param_1b\", \"qc4_param_1b\"]]\n",
    "df_qc_vol_check = df_qc_vol_check[(df_qc_vol_check>40) & (df_qc_vol_check<55)]\n",
    "df_qc_vol_check.dropna(axis=0, inplace=True)\n",
    "df_qc_vol_check.reset_index(drop=True, inplace=True)\n",
    "\n",
    "# CREATE PAIRPLOT TO SHOW CORRELATIONS OF DIFFERENT QC VOLUME STEPS\n",
    "# DISPLAY CORRELATION (Pearson) IN RESPECTIVE PLOTS\n",
    "\n",
    "def corrfunc(x, y, hue=None, ax=None, **kws):\n",
    "    \"\"\"Plot the correlation coefficient in the top left hand corner of a plot.\"\"\"\n",
    "    r, _ = pearsonr(x, y)\n",
    "    ax = ax or plt.gca()\n",
    "    text = ax.annotate(f'ρ = {r:.2f}', xy=(.1, .9), xycoords=ax.transAxes)\n",
    "    text.set_bbox(dict(facecolor='grey', edgecolor='k'))\n",
    "\n",
    "p = sns.pairplot(df_qc_vol_check)\n",
    "p.map_lower(corrfunc)\n",
    "plt.savefig(savepath + \"Pairplot_qc_param_1b.jpg\", bbox_inches=\"tight\", dpi=300)\n",
    "plt.show()"
   ]
  },
  {
   "cell_type": "markdown",
   "metadata": {},
   "source": [
    "**`OBSERVATION / DESCRIPTION`**\n",
    "\n",
    "- qc volume parameters are strongly correlated (>= 0.9)\n",
    "- qc param 1a are strongly correlated (>= 0.87)\n",
    "- qc param 1b are less strongly correlated (>= 0.45)\n",
    "    - nature of param 1b values (whole numbers betwen ~ 40-55) makes them appear discrete\n",
    "    - they will be used as numerical feature though\n",
    "\n",
    "*Different qc parameters will be aggregated to condense features into single (target) feature!* <br>\n",
    "\n",
    "Initial round of model creation aims at predicting qc volume. <br>\n",
    "It is also planned to use geometric parameter + qc volume to predict param 1a and param 1b."
   ]
  },
  {
   "cell_type": "markdown",
   "metadata": {},
   "source": [
    "## Aggregating qc_volume, qc_param_1a, qc_param_1b in different QCs"
   ]
  },
  {
   "cell_type": "code",
   "execution_count": null,
   "metadata": {},
   "outputs": [],
   "source": [
    "# AVG ALL QC_VOLUMEs TO YIELD SINGLE TARGET FEATURE\n",
    "qc1_vol = df_cleaned[\"qc1_param_volume\"]\n",
    "qc2_vol = df_cleaned[\"qc2_param_volume\"]\n",
    "qc3_vol = df_cleaned[\"qc3_param_volume\"]\n",
    "qc4_vol = df_cleaned[\"qc4_param_volume\"]\n",
    "\n",
    "# AVG ALL QC_VOLTAGEs\n",
    "qc1_voltage = df_cleaned[\"qc1_param_1a\"]\n",
    "qc2_voltage = df_cleaned[\"qc2_param_1a\"]\n",
    "qc3_voltage = df_cleaned[\"qc3_param_1a\"]\n",
    "qc4_voltage = df_cleaned[\"qc4_param_1a\"]\n",
    "\n",
    "# AVG ALL QC_PULSEs\n",
    "qc1_pulse = df_cleaned[\"qc1_param_1b\"]\n",
    "qc2_pulse = df_cleaned[\"qc2_param_1b\"]\n",
    "qc3_pulse = df_cleaned[\"qc3_param_1b\"]\n",
    "qc4_pulse = df_cleaned[\"qc4_param_1b\"]\n",
    "\n",
    "qc_volumes = list(zip(qc1_vol, qc2_vol, qc3_vol, qc4_vol))\n",
    "qc_voltages = list(zip(qc1_voltage, qc2_voltage, qc3_voltage, qc4_voltage))\n",
    "qc_pulses = list(zip(qc1_pulse, qc2_pulse, qc3_pulse, qc4_pulse))\n",
    "\n",
    "qc_volume_means = [np.nanmean(volume) for volume in qc_volumes]\n",
    "qc_voltage_means = [np.nanmean(voltage) for voltage in qc_voltages]\n",
    "qc_puls_means = [np.nanmean(puls) for puls in qc_pulses]\n",
    "\n",
    "# ADD NEW QC_MEAN COLUMNS TO DF\n",
    "df_cleaned[\"qc_volume_mean\"] = qc_volume_means\n",
    "df_cleaned[\"qc_param_1a_mean\"] = qc_voltage_means\n",
    "df_cleaned[\"qc_param_1b_mean\"] = qc_puls_means\n",
    "\n",
    "# DROP SPECIFIC QC VOLUME, VOLTAGE, PULS COLUMNS & ONLY KEEP AVERAGED COLS\n",
    "df_cleaned.drop(columns=[\"qc1_param_volume\", \"qc2_param_volume\", \"qc3_param_volume\",\"qc4_param_volume\",\n",
    "                        \"qc1_param_1a\",\"qc2_param_1a\",\"qc3_param_1a\",\"qc4_param_1a\",\n",
    "                        \"qc1_param_1b\",\"qc2_param_1b\",\"qc3_param_1b\",\"qc4_param_1b\"], inplace=True)"
   ]
  },
  {
   "cell_type": "markdown",
   "metadata": {},
   "source": [
    "## Delete entries without target feature value"
   ]
  },
  {
   "cell_type": "code",
   "execution_count": null,
   "metadata": {},
   "outputs": [],
   "source": [
    "df_cleaned = df_cleaned[df_cleaned[\"qc_volume_mean\"].notnull()].reset_index(drop=True)"
   ]
  },
  {
   "cell_type": "markdown",
   "metadata": {},
   "source": [
    "## EDA / Pairplot after initial data processing"
   ]
  },
  {
   "cell_type": "code",
   "execution_count": null,
   "metadata": {},
   "outputs": [],
   "source": [
    "# GET NUMERICAL FEATURES FROM DATAFRAME\n",
    "df_numerical_temp = df_cleaned.select_dtypes(include=np.number)"
   ]
  },
  {
   "cell_type": "markdown",
   "metadata": {},
   "source": [
    "sns.pairplot(df_numerical_temp)"
   ]
  },
  {
   "cell_type": "markdown",
   "metadata": {},
   "source": [
    "## Check NaN distribution in features post processing, but pre outlier / NaN trimming"
   ]
  },
  {
   "cell_type": "code",
   "execution_count": null,
   "metadata": {
    "scrolled": true
   },
   "outputs": [],
   "source": [
    "column_names = list(df_cleaned.isna().sum().index)\n",
    "column_nan_count = list(df_cleaned.isna().sum())\n",
    "column_lens = [len(df_cleaned)] * len(df_cleaned.columns)\n",
    "column_nan_perc = [round((column_nan_count[idx]/column_lens[idx])*100,2)\n",
    "                   for idx, col in enumerate(column_nan_count)]\n",
    "\n",
    "df_nan_distribution = pd.DataFrame()\n",
    "df_nan_distribution[\"Feature\"] = column_names\n",
    "df_nan_distribution[\"NaN %\"] = column_nan_perc\n",
    "\n",
    "y = column_names[::-1]\n",
    "height = column_nan_perc[::-1]\n",
    "plt.figure(figsize=(12,7))\n",
    "plt.title(\"NaN distribution of features after processing\", size=14, weight=\"bold\")\n",
    "plt.grid(ls=\"--\", color=\"k\", alpha=0.2, axis=\"x\")\n",
    "plt.barh(y, height)\n",
    "plt.xticks(range(0,105,10))\n",
    "plt.savefig(savepath + \"NaN_Dist_Features_post_processing_pre_interpolation.png\", bbox_inches=\"tight\", dpi=300, transparent=True)\n",
    "plt.show()"
   ]
  },
  {
   "cell_type": "markdown",
   "metadata": {},
   "source": [
    "## Dropping outliers / NaNs by trimming / pruning values to specific ranges\n",
    "*Specific ranges are based on given production thresholds*"
   ]
  },
  {
   "cell_type": "markdown",
   "metadata": {},
   "source": [
    "### Dropping outliers / NaNs by trimming - Geometric Parameters"
   ]
  },
  {
   "cell_type": "code",
   "execution_count": null,
   "metadata": {},
   "outputs": [],
   "source": [
    "# DROP ROWS WHERE VALUE IS BELOW/ABOVE CRITICAL, SENSIBLE THRESHOLD\n",
    "print(len(df_cleaned))\n",
    "df_cleaned = df_cleaned[(df_cleaned[\"g_param_2a\"]>0) &\n",
    "                       (df_cleaned[\"g_param_2a\"]<=100)]\n",
    "df_cleaned = df_cleaned[(df_cleaned[\"g_param_2b\"]>0) &\n",
    "                       (df_cleaned[\"g_param_2b\"]<=90)]\n",
    "df_cleaned = df_cleaned[(df_cleaned[\"g_param_3d\"]>0) &\n",
    "                       (df_cleaned[\"g_param_3d\"]<=7)]\n",
    "df_cleaned = df_cleaned[(df_cleaned[\"g_param_3e\"]>=29) &\n",
    "                       (df_cleaned[\"g_param_3e\"]<=37)]\n",
    "df_cleaned = df_cleaned[(df_cleaned[\"g_param_3a\"]>=0) &\n",
    "                       (df_cleaned[\"g_param_3a\"]<=1.4)]\n",
    "df_cleaned = df_cleaned[(df_cleaned[\"g_param_3b\"]>0) &\n",
    "                       (df_cleaned[\"g_param_3b\"]<=1.2)]\n",
    "df_cleaned = df_cleaned[(df_cleaned[\"g_param_3c\"]>=0) &\n",
    "                       (df_cleaned[\"g_param_3c\"]<=4)]\n",
    "df_cleaned = df_cleaned[(df_cleaned[\"g_param_4\"]>=30) &\n",
    "                       (df_cleaned[\"g_param_4\"]<=70)]"
   ]
  },
  {
   "cell_type": "markdown",
   "metadata": {},
   "source": [
    "### Dropping outliers / NaNs by trimming - Functional Parameters"
   ]
  },
  {
   "cell_type": "code",
   "execution_count": null,
   "metadata": {
    "scrolled": true
   },
   "outputs": [],
   "source": [
    "# DROP ROWS WHERE QC VOLUME, VOLTAGE, PULSE IS BELOW/ABOVE CRITICAL, SENSIBLE THRESHOLD\n",
    "df_cleaned = df_cleaned[(df_cleaned[\"qc_volume_mean\"]>=150) &\n",
    "                       (df_cleaned[\"qc_volume_mean\"]<=650)]\n",
    "df_cleaned = df_cleaned[(df_cleaned[\"qc_param_1a_mean\"]>=50) &\n",
    "                       (df_cleaned[\"qc_param_1a_mean\"]<=170)]\n",
    "df_cleaned = df_cleaned[(df_cleaned[\"qc_param_1b_mean\"]>=40) &\n",
    "                       (df_cleaned[\"qc_param_1b_mean\"]<=55)]\n",
    "\n",
    "df_cleaned.reset_index(drop=True, inplace=True)\n",
    "print(len(df_cleaned))"
   ]
  },
  {
   "cell_type": "markdown",
   "metadata": {},
   "source": [
    "## Check NaN distribution in all features after processing and outlier / NaN trimming"
   ]
  },
  {
   "cell_type": "code",
   "execution_count": null,
   "metadata": {
    "scrolled": true
   },
   "outputs": [],
   "source": [
    "column_names = list(df_cleaned.isna().sum().index)\n",
    "column_nan_count = list(df_cleaned.isna().sum())\n",
    "column_lens = [len(df_cleaned)] * len(df_cleaned.columns)\n",
    "column_nan_perc = [round((column_nan_count[idx]/column_lens[idx])*100,2)\n",
    "                   for idx, col in enumerate(column_nan_count)]\n",
    "\n",
    "df_nan_distribution = pd.DataFrame()\n",
    "df_nan_distribution[\"Feature\"] = column_names\n",
    "df_nan_distribution[\"NaN %\"] = column_nan_perc\n",
    "\n",
    "y = column_names[::-1]\n",
    "height = column_nan_perc[::-1]\n",
    "plt.figure(figsize=(12,7))\n",
    "plt.title(\"NaN distribution of features after processing\", size=14, weight=\"bold\")\n",
    "plt.grid(ls=\"--\", color=\"k\", alpha=0.2, axis=\"x\")\n",
    "plt.barh(y, height)\n",
    "plt.xticks(range(0,105,10))\n",
    "plt.savefig(savepath + \"NaN_Dist_Features_post_processing_post_interpolation.png\", bbox_inches=\"tight\", dpi=300, transparent=True)\n",
    "plt.show()"
   ]
  },
  {
   "cell_type": "markdown",
   "metadata": {},
   "source": [
    "## Splitting numerical and categorical data"
   ]
  },
  {
   "cell_type": "code",
   "execution_count": null,
   "metadata": {},
   "outputs": [],
   "source": [
    "# GET NUMERICAL FEATURES FROM DATAFRAME\n",
    "df_numerical = df_cleaned.select_dtypes(include=np.number)\n",
    "\n",
    "# DROP CATEGORICAL FEATURES FROM NUMERICAL DATAFRAME\n",
    "df_numerical.drop(columns=[\"production_size\", \"product_kind\", \"product_family\",\n",
    "                          \"misc_take_1\",\"misc_take_2\", \"p_misc_pos\"], inplace=True)\n",
    "\n",
    "# TAKE CATEGORICAL FEATURES FROM DATAFRAME\n",
    "df_categorical = df_cleaned[[\"product_kind\", \"production_size\", \n",
    "                             \"misc_take_1\",\"misc_take_2\", \"p_misc_pos\"]]"
   ]
  },
  {
   "cell_type": "markdown",
   "metadata": {},
   "source": [
    "## Checking distribution patterns of  numericla data"
   ]
  },
  {
   "cell_type": "code",
   "execution_count": null,
   "metadata": {},
   "outputs": [],
   "source": [
    "df_numerical.hist(figsize=(12,12))"
   ]
  },
  {
   "cell_type": "markdown",
   "metadata": {},
   "source": [
    "## Processing NaN values - Numericals"
   ]
  },
  {
   "cell_type": "markdown",
   "metadata": {},
   "source": [
    "### Fill NaN p_misc_phase with median of non-zero entries"
   ]
  },
  {
   "cell_type": "markdown",
   "metadata": {},
   "source": [
    "df_numerical[\"p_misc_phase\"].fillna(df_numerical[\"p_misc_phase\"].median(), inplace=True)"
   ]
  },
  {
   "cell_type": "markdown",
   "metadata": {},
   "source": [
    "## Processing NaN values - Categoricals"
   ]
  },
  {
   "cell_type": "markdown",
   "metadata": {},
   "source": [
    "### Fill NaN misc_take_1 with average of non-zero entries\n",
    "*min = 0; max = 5 --> based on procedural limits*"
   ]
  },
  {
   "cell_type": "code",
   "execution_count": null,
   "metadata": {},
   "outputs": [],
   "source": [
    "df_categorical[\"misc_take_1\"].fillna(int(np.mean(\n",
    "    [int(k1e) for k1e in list(df_categorical[\"misc_take_1\"].unique()) if 6 > k1e > 0])), inplace=True)"
   ]
  },
  {
   "cell_type": "markdown",
   "metadata": {},
   "source": [
    "### Fill NaN misc_take_2 with average of non-zero entries\n",
    "*min = 0; max = 6 --> based on procedural limits*"
   ]
  },
  {
   "cell_type": "code",
   "execution_count": null,
   "metadata": {},
   "outputs": [],
   "source": [
    "df_categorical[\"misc_take_2\"].fillna(\n",
    "    int(np.mean([int(k1e) for k1e in list(df_categorical[\"misc_take_2\"].unique()) if 7 > k1e > 0])), inplace=True)"
   ]
  },
  {
   "cell_type": "markdown",
   "metadata": {},
   "source": [
    "### Fill NaN p_misc_pos with median"
   ]
  },
  {
   "cell_type": "code",
   "execution_count": null,
   "metadata": {},
   "outputs": [],
   "source": [
    "df_categorical[\"p_misc_pos\"].fillna(df_categorical[\"p_misc_pos\"].median(), inplace=True)"
   ]
  },
  {
   "cell_type": "markdown",
   "metadata": {},
   "source": [
    "### Fill NaN production_size with median"
   ]
  },
  {
   "cell_type": "code",
   "execution_count": null,
   "metadata": {},
   "outputs": [],
   "source": [
    "df_categorical[\"production_size\"].fillna(df_categorical[\"production_size\"].median(), inplace=True)"
   ]
  },
  {
   "cell_type": "markdown",
   "metadata": {},
   "source": [
    "### Check NaN distribution in categorical features after processing and outlier / NaN trimming"
   ]
  },
  {
   "cell_type": "code",
   "execution_count": null,
   "metadata": {},
   "outputs": [],
   "source": [
    "column_names = list(df_categorical.isna().sum().index)\n",
    "column_nan_count = list(df_categorical.isna().sum())\n",
    "column_lens = [len(df_categorical)] * len(df_categorical.columns)\n",
    "column_nan_perc = [round((column_nan_count[idx]/column_lens[idx])*100,2)\n",
    "                   for idx, col in enumerate(column_nan_count)]\n",
    "\n",
    "df_nan_distribution = pd.DataFrame()\n",
    "df_nan_distribution[\"Feature\"] = column_names\n",
    "df_nan_distribution[\"NaN %\"] = column_nan_perc\n",
    "\n",
    "y = column_names[::-1]\n",
    "height = column_nan_perc[::-1]\n",
    "plt.figure(figsize=(12,4))\n",
    "plt.title(\"NaN distribution of categorical features after processing pre interpolation\", size=14, weight=\"bold\")\n",
    "plt.grid(ls=\"--\", color=\"k\", alpha=0.2, axis=\"x\")\n",
    "plt.barh(y, height)\n",
    "plt.xticks(range(0,105,10))\n",
    "#plt.savefig(\"NaN_Dist_Cat-Features_post_processing_pre_interpolation.png\", bbox_inches=\"tight\", dpi=300, transparent=True)\n",
    "plt.show()"
   ]
  },
  {
   "cell_type": "markdown",
   "metadata": {},
   "source": [
    "### Check NaN distribution in numerical features after processing and outlier / NaN trimming"
   ]
  },
  {
   "cell_type": "code",
   "execution_count": null,
   "metadata": {},
   "outputs": [],
   "source": [
    "column_names = list(df_numerical.isna().sum().index)\n",
    "column_nan_count = list(df_numerical.isna().sum())\n",
    "column_lens = [len(df_numerical)] * len(df_numerical.columns)\n",
    "column_nan_perc = [round((column_nan_count[idx]/column_lens[idx])*100,2)\n",
    "                   for idx, col in enumerate(column_nan_count)]\n",
    "\n",
    "df_nan_distribution = pd.DataFrame()\n",
    "df_nan_distribution[\"Feature\"] = column_names\n",
    "df_nan_distribution[\"NaN %\"] = column_nan_perc\n",
    "\n",
    "y = column_names[::-1]\n",
    "height = column_nan_perc[::-1]\n",
    "plt.figure(figsize=(12,4))\n",
    "plt.title(\"NaN distribution of numerical features after processing pre interpolation\", size=14, weight=\"bold\")\n",
    "plt.grid(ls=\"--\", color=\"k\", alpha=0.2, axis=\"x\")\n",
    "plt.barh(y, height)\n",
    "plt.xticks(range(0,105,10))\n",
    "#plt.savefig(\"NaN_Dist_Cat-Features_post_processing_pre_interpolation.png\", bbox_inches=\"tight\", dpi=300, transparent=True)\n",
    "plt.show()"
   ]
  },
  {
   "cell_type": "markdown",
   "metadata": {},
   "source": [
    "## Check multicollinearity for numerical features"
   ]
  },
  {
   "cell_type": "code",
   "execution_count": null,
   "metadata": {},
   "outputs": [],
   "source": [
    "corr = df_numerical.corr()\n",
    "mask = np.zeros_like(corr)\n",
    "mask[np.triu_indices_from(mask)] = True\n",
    "with sns.axes_style(\"white\"):\n",
    "    f, ax = plt.subplots(figsize=(12, 12))\n",
    "    ax = sns.heatmap(corr, mask=mask,cmap='coolwarm', vmin=-1,vmax=1,annot=True, square=True)\n",
    "plt.savefig(savepath + \"Headmap_Multicollinearity_pre_drop.jpg\", bbox_inches=\"tight\", dpi=300)\n",
    "plt.show"
   ]
  },
  {
   "cell_type": "code",
   "execution_count": null,
   "metadata": {},
   "outputs": [],
   "source": [
    "def show_and_drop_high_correlation_features(df, threshold):\n",
    "    \"\"\"\n",
    "    Show any features that have correlation higher than threshold with any other;\n",
    "    \"\"\"\n",
    "    corr_matrix=df.corr().abs()\n",
    "    upper_triangle=corr_matrix.where(np.triu(np.ones(corr_matrix.shape),k=1).astype(bool))\n",
    "    \n",
    "    cols_above_threshold = [column for column in upper_triangle.columns if any(upper_triangle[column] > threshold)]\n",
    "    cols_above_threshold = [col for col in cols_above_threshold if \"vol\" not in col]\n",
    "    #cols_above_threshold = [\"g_param_2a\", \"g_param_4\"]\n",
    "    df = df.drop(columns=cols_above_threshold)\n",
    "    return df\n",
    "\n",
    "df_numerical = show_and_drop_high_correlation_features(df_numerical, 0.8)"
   ]
  },
  {
   "cell_type": "code",
   "execution_count": null,
   "metadata": {},
   "outputs": [],
   "source": [
    "corr_matrix = df_numerical.corr()\n",
    "corr = df_numerical.corr()\n",
    "mask = np.zeros_like(corr)\n",
    "mask[np.triu_indices_from(mask)] = True\n",
    "with sns.axes_style(\"white\"):\n",
    "    f, ax = plt.subplots(figsize=(12, 12))\n",
    "    ax = sns.heatmap(corr, mask=mask,cmap='coolwarm', vmin=-1,vmax=1,annot=True, square=True)\n",
    "    \n",
    "plt.savefig(savepath + \"Headmap_Multicollinearity_post_drop.jpg\", bbox_inches=\"tight\", dpi=300)\n",
    "plt.show()"
   ]
  },
  {
   "cell_type": "markdown",
   "metadata": {},
   "source": [
    "## Hot-Encode categorical features"
   ]
  },
  {
   "cell_type": "code",
   "execution_count": null,
   "metadata": {},
   "outputs": [],
   "source": [
    "df_categorical_hotcoded = pd.get_dummies(df_categorical, drop_first=True)"
   ]
  },
  {
   "cell_type": "markdown",
   "metadata": {},
   "source": [
    "# LINEAR REGRESSION"
   ]
  },
  {
   "cell_type": "markdown",
   "metadata": {},
   "source": [
    "## Select data to be used"
   ]
  },
  {
   "cell_type": "markdown",
   "metadata": {},
   "source": [
    "### Numerical only"
   ]
  },
  {
   "cell_type": "markdown",
   "metadata": {},
   "source": [
    "df_to_use = df_numerical"
   ]
  },
  {
   "cell_type": "markdown",
   "metadata": {},
   "source": [
    "### Numerical + Categorical"
   ]
  },
  {
   "cell_type": "code",
   "execution_count": null,
   "metadata": {},
   "outputs": [],
   "source": [
    "df_to_use = pd.concat([df_numerical, df_categorical], axis=1)"
   ]
  },
  {
   "cell_type": "code",
   "execution_count": null,
   "metadata": {},
   "outputs": [],
   "source": [
    "print(\"Rows before dropping NaN values: \", len(df_to_use))\n",
    "df_to_use = df_to_use.dropna(axis=0)\n",
    "print(\"Rows after dropping NaN values: \", len(df_to_use))"
   ]
  },
  {
   "cell_type": "markdown",
   "metadata": {},
   "source": [
    "sns.pairplot(df_to_use)\n",
    "fig.savefig(\"Pairplot_df_numerical_cleaned.jpg\", bbox_inches=\"tight\", dpi=300)"
   ]
  },
  {
   "cell_type": "markdown",
   "metadata": {},
   "source": [
    "## X-y Split"
   ]
  },
  {
   "cell_type": "code",
   "execution_count": null,
   "metadata": {},
   "outputs": [],
   "source": [
    "#X = df_to_use.drop('qc_volume_mean', axis=1)\n",
    "X = df_to_use.drop(['qc_volume_mean', 'qc_param_1a_mean', 'qc_param_1b_mean'], axis=1) \n",
    "                    # 'qc_param_1a_mean', 'qc_param_1b_mean'\n",
    "y = df_to_use[\"qc_volume_mean\"]"
   ]
  },
  {
   "cell_type": "raw",
   "metadata": {},
   "source": [
    "'produktion_groesse': \"production_size\",\n",
    "'familie': \"product_family\",\n",
    "'art': \"product_kind\",\n",
    "'ns1_winkel_vorne': \"g_param_1a\",\n",
    "'ns1_winkel_hinten': \"g_param_1b\",\n",
    "'ns1_durchmesser_vorne': \"g_param_2a\",\n",
    "'ns1_durchmesser_hinten': \"g_param_2b\",\n",
    "'ns2_center_variation': \"g_param_3a\",\n",
    "'ns2_front_angle': \"g_param_3b\",\n",
    "'ns2_curve': \"g_param_3c\",\n",
    "'ns2_15xlength': \"g_param_3d\",\n",
    "'ns2_parabolic_factor': \"g_param_3e\",\n",
    "'oeo_oeo': \"g_param_4\",\n",
    "'kleben1_kleber_teilentnahme': \"misc_take_1\",\n",
    "'kleben2_kleber_teilentnahme': \"misc_take_2\",\n",
    "'bqc_spannung': \"qc1_param_1a\",\n",
    "'bqc_puls': \"qc1_param_1b\",\n",
    "'bqc_volumen': \"qc1_param_volume\",\n",
    "'et1_spannung': \"qc2_param_1a\",\n",
    "'et1_puls': \"qc2_param_1b\",\n",
    "'et1_volumen': \"qc2_param_volume\",\n",
    "'ft1_spannung': \"qc3_param_1a\",\n",
    "'ft1_puls': \"qc3_param_1b\",\n",
    "'ft1_volumen': \"qc3_param_volume\",\n",
    "'ek_spannung': \"qc4_param_1a\",\n",
    "'ek_puls': \"qc4_param_1b\",\n",
    "'ek_volumen': \"qc4_param_volume\",\n",
    "'piezo_position': \"p_misc_pos\",\n",
    "'piezo_phase': \"p_misc_phase\"\n",
    "\"qc_param_1a_mean\"\n",
    "\"qc_param_1b_mean\"\n",
    "\"qc_volume_mean\""
   ]
  },
  {
   "cell_type": "markdown",
   "metadata": {},
   "source": [
    "## Train - Test - Split"
   ]
  },
  {
   "cell_type": "code",
   "execution_count": null,
   "metadata": {},
   "outputs": [],
   "source": [
    "X_train, X_test, y_train, y_test=train_test_split(X, y, test_size=0.3,random_state=42)\n",
    "\n",
    "print(\"Shape X_train:\", X_train.shape)\n",
    "print(\"Shape X_test:\", X_test.shape)\n",
    "print(\"Shape y_train:\", y_train.shape)\n",
    "print(\"Shape y_test:\", y_test.shape)"
   ]
  },
  {
   "cell_type": "markdown",
   "metadata": {},
   "source": [
    "## Standardize the data after data split"
   ]
  },
  {
   "cell_type": "code",
   "execution_count": null,
   "metadata": {},
   "outputs": [],
   "source": [
    "# Standardize training data\n",
    "std_scaler = StandardScaler().fit(X_train) # get mean, variance from training set\n",
    "\n",
    "# Scale training data\n",
    "X_train_scaled = std_scaler.transform(X_train)\n",
    "\n",
    "# Scale test data with mean, variance from training data\n",
    "X_test_scaled = std_scaler.transform(X_test)\n",
    "\n",
    "print(X_train_scaled.shape, X_test_scaled.shape)\n",
    "\n",
    "model=LinearRegression()             # model\n",
    "model.fit(X_train_scaled, y_train)   # model train\n",
    "\n",
    "print(\"Coefficients (betas): \", np.around(model.coef_,2))\n",
    "print(\"Coefficients (alpha): \", np.around(model.intercept_,2))\n",
    "\n",
    "y_pred=model.predict(X_test_scaled)   # model prediction\n",
    "y_pred_train=model.predict(X_train_scaled)\n",
    "\n",
    "alpha = np.around(model.intercept_,2)\n",
    "betas = [round(coef,2) for coef in model.coef_]"
   ]
  },
  {
   "cell_type": "code",
   "execution_count": null,
   "metadata": {},
   "outputs": [],
   "source": [
    "eq = \"qc_volumne_mean = \"\n",
    "\n",
    "for idx, coef in enumerate(betas):\n",
    "    eq += str(coef) + \" * \" + list(X_train.columns)[idx] + \" + \" + \"\\n\"\n",
    "eq += str(alpha)\n",
    "\n",
    "print(eq)"
   ]
  },
  {
   "cell_type": "markdown",
   "metadata": {},
   "source": [
    "## Evaluating Model Performance"
   ]
  },
  {
   "cell_type": "code",
   "execution_count": null,
   "metadata": {},
   "outputs": [],
   "source": [
    "result=pd.DataFrame({\"y_test\":y_test,\"y_pred\":y_pred})\n",
    "\n",
    "# Make an scatter plot y_pred vs y\n",
    "\n",
    "fig, ax = plt.subplots(1,3,figsize=(15,5))\n",
    "ax[0].plot(y_pred, y_test, 'o')\n",
    "ax[0].set_xlabel(\"y_test\")\n",
    "ax[0].set_ylabel(\"y_pred\")\n",
    "ax[0].set_title(\"Test Set - Predicted vs Real\", weight=\"bold\")\n",
    "\n",
    "# Get a histogram of the residuals ie: y - y_pred.  \n",
    "# It resembles a normal distribution?\n",
    "ax[1].hist(y_test - y_pred)\n",
    "ax[1].set_xlabel(\"y_test - y_pred\")\n",
    "ax[1].set_title(\"Test Set - Residual histogram\", weight=\"bold\")\n",
    "\n",
    "# Homoscdasticity\n",
    "# Check if residuals are somewhat uniformally distributed around null-line\n",
    "ax[2].plot(y_pred,y_test - y_pred,\"o\")\n",
    "ax[2].set_xlabel(\"predicted\")\n",
    "ax[2].set_ylabel(\"residuals\")\n",
    "ax[2].set_title(\"Residuals by Predicted\", weight=\"bold\")\n",
    "ax[2].plot(y_pred,np.zeros(len(y_pred)),linestyle='dashed')\n",
    "\n",
    "plt.savefig(savepath + \"Evaluating_Model_Performance.jpg\", bbox_inches=\"tight\", dpi=300)\n",
    "\n",
    "plt.show()"
   ]
  },
  {
   "cell_type": "code",
   "execution_count": null,
   "metadata": {},
   "outputs": [],
   "source": [
    "sns.regplot(x='y_pred',y='y_test', data=result, scatter_kws={\"color\": \"red\"}, line_kws={\"color\": \"black\"})\n",
    "plt.show()"
   ]
  },
  {
   "cell_type": "markdown",
   "metadata": {},
   "source": [
    "## Error metrics"
   ]
  },
  {
   "cell_type": "code",
   "execution_count": null,
   "metadata": {
    "scrolled": false
   },
   "outputs": [],
   "source": [
    "mse_1 = round(mse(y_test,y_pred),2)\n",
    "rmse_1 = round(np.sqrt(mse(y_test,y_pred)),2)\n",
    "mae_1 = round(mae(y_test,y_pred),2)\n",
    "\n",
    "print(\"MSE:\", mse_1) # shows squared error (harder to interpret)\n",
    "print(\"RMSE:\", rmse_1) # shows error\n",
    "print(\"MAE:\", mae_1) # shows real error (in $)\n",
    "print(\"-----\")\n",
    "\n",
    "# R^2\n",
    "R2_1 = round(r2_score(y_test,y_pred),2)\n",
    "\n",
    "# Adj. R^2\n",
    "Adj_R2_1 = round(1 - (1-R2_1)*(len(y_test)-1)/(len(y_test)-X_test.shape[1]-1),2) # X_test.shape[1] == len(X_test.columns)\n",
    "\n",
    "print(f\"R^2 for <numerical (with outliers) only> is {round(R2_1,2)}.\")\n",
    "print(f\"Adjusted R^2 for <numerical (with outliers) only> is {round(Adj_R2_1,2)}.\")"
   ]
  },
  {
   "cell_type": "code",
   "execution_count": null,
   "metadata": {},
   "outputs": [],
   "source": [
    "Image(r\"C:\\Users\\p.kollhof\\Documents\\IRONHACK_GitHub\\DA_Midterm_Project\\Images\\Error_Metrics_Regression_Modeling.PNG\", \n",
    "     width=600)"
   ]
  },
  {
   "cell_type": "code",
   "execution_count": null,
   "metadata": {},
   "outputs": [],
   "source": [
    "features_importances = pd.DataFrame(data={\n",
    "    'Attribute': X_train.columns,\n",
    "    'Importance': abs(model.coef_)})\n",
    "\n",
    "features_importances = features_importances.sort_values(by='Importance', ascending=False)\n",
    "width = features_importances['Importance'][::-1]\n",
    "y = features_importances['Attribute'][::-1]\n",
    "\n",
    "fig = plt.figure(figsize=(5,6))\n",
    "plt.grid(ls=\"--\", alpha=0.5, color=\"k\", axis=\"x\")\n",
    "plt.barh(y=y, width=width, color='#087E8B')\n",
    "plt.title('Feature importances obtained \\n from coefficients', size=14, weight=\"bold\")\n",
    "plt.xticks(list(range(0,int(max(width)+5),5)))\n",
    "plt.savefig(savepath + \"Feature_Importance_1.jpg\", bbox_inches=\"tight\", dpi=300)\n",
    "plt.show()"
   ]
  },
  {
   "cell_type": "markdown",
   "metadata": {},
   "source": [
    "# Lasso Regression"
   ]
  },
  {
   "cell_type": "code",
   "execution_count": null,
   "metadata": {},
   "outputs": [],
   "source": []
  },
  {
   "cell_type": "markdown",
   "metadata": {},
   "source": [
    "# MODEL EVALUATION"
   ]
  },
  {
   "cell_type": "code",
   "execution_count": null,
   "metadata": {},
   "outputs": [],
   "source": [
    "R2 = [0.77, 0.77, 0.79, 0.80, 0.76, 0.76, 0.77, 0.77, 0.79, \n",
    "0.79, 0.78, 0.75, 0.74, 0.78, 0.74, 0.77, 0.76, 0.80]\n",
    "\n",
    "Iterations = list(range(1,len(R2)+1))\n",
    "\n",
    "adj_R2 = [0.77, 0.77, 0.79, 0.80, 0.76, 0.76, 0.77, 0.77, 0.79, \n",
    "0.79, 0.78, 0.75, 0.74, 0.78, 0.74, 0.77, 0.76, 0.80]\n",
    "\n",
    "MSE = [656.47, 642.54, 598.18, 576.21, 671.56, 658.91, \n",
    "       664.91, 679.62, 618.20, 608.99, 604.44, 702.92, 715.1, \n",
    "       608.75, 715.1, 653.86, 698.37, 538.54]\n",
    "\n",
    "RMSE = [25.62, 25.35, 24.46, 24.00, 25.91, 25.67, 25.79, \n",
    "        26.07, 24.86, 24.68, 24.59, 26.51, 26.74, 24.67, 26.74, \n",
    "        25.57, 26.43, 23.21]\n",
    "\n",
    "MAE = [19.30, 19.13, 18.13, 17.96, 19.27, 19.20, 19.45, \n",
    "       19.55, 18.88, 18.74, 18.4, 20.03, 20.13, 18.41, 20.13, \n",
    "       19.4, 20.27, 17.53]\n",
    "\n",
    "fig, ax = plt.subplots(1, 2, figsize=(7,7), constrained_layout = True)\n",
    "#fig.suptitle(\"Evaluation of different model iterations\", size=14, weight=\"bold\")\n",
    "\n",
    "color = [\"darkgrey\"] * len(R2)\n",
    "#color[3] = \"royalblue\"\n",
    "color[-1] = \"red\"\n",
    "\n",
    "ax[0].bar(Iterations, R2, color=color)\n",
    "ax[0].set_title('R^2', size=14, weight=\"bold\")\n",
    "ax[0].set_yticks(np.arange(0,1.01,0.1))\n",
    "ax[0].grid(ls=\"--\", color=\"k\", alpha=0.2, axis=\"y\")\n",
    "ax[0].set_xticks(list(range(1,len(MSE)+1)))\n",
    "for tick in ax[0].get_xticklabels():\n",
    "    tick.set_rotation(90)\n",
    "ax[0].set_xlabel(\"Iteration\")\n",
    "ax[0].annotate(\"highest = best\", ((len(MSE)+1)/2,0.96), \n",
    "               bbox=dict(boxstyle='round,pad=0.2', fc='grey', alpha=0.3),\n",
    "              size=12, ha=\"center\")\n",
    "ax[0].annotate(\"0.80\", (18,0.84), \n",
    "               bbox=dict(boxstyle='round', fc='white'),\n",
    "              size=12, ha=\"right\", va=\"center\")\n",
    "\n",
    "ax[1].bar(Iterations, RMSE, color=color)\n",
    "ax[1].set_title('RMSE', size=14, weight=\"bold\", color='red')\n",
    "ax[1].yaxis.set_label_position(\"right\")\n",
    "ax[1].yaxis.tick_right()\n",
    "ax[1].grid(ls=\"--\", color=\"k\", alpha=0.2, axis=\"y\")\n",
    "ax[1].set_xticks(list(range(1,len(MSE)+1)))\n",
    "for tick in ax[1].get_xticklabels():\n",
    "    tick.set_rotation(90)\n",
    "\n",
    "    \n",
    "ax[1].set_xlabel(\"Iteration\")\n",
    "ax[1].annotate(\"lowest = best\", ((len(MSE)+1)/2,27), \n",
    "               bbox=dict(boxstyle='round,pad=0.2', fc='grey', alpha=0.3),\n",
    "              size=12, ha=\"center\")\n",
    "ax[1].annotate(\"23.21\", (17,22.5), \n",
    "               bbox=dict(boxstyle='round', fc='white'),\n",
    "              size=12, ha=\"right\")\n",
    "#ax[1].annotate(\"24.00\", (5,23), \n",
    "               #bbox=dict(boxstyle='round', fc='white'),\n",
    "              #size=12, ha=\"left\")\n",
    "\n",
    "plt.savefig(savepath + \"R2_RMSE_Evaluation.jpg\", bbox_inches=\"tight\", dpi=300)\n",
    "\n",
    "plt.show()"
   ]
  },
  {
   "cell_type": "code",
   "execution_count": null,
   "metadata": {},
   "outputs": [],
   "source": []
  },
  {
   "cell_type": "markdown",
   "metadata": {},
   "source": [
    "# Testing Model's predictive power"
   ]
  },
  {
   "cell_type": "code",
   "execution_count": null,
   "metadata": {},
   "outputs": [],
   "source": [
    "df_prod_cut = load_original_data()\n",
    "df_cleaned_2 = make_columns_lowercase(df_prod_cut)\n",
    "\n",
    "def select_alternative_sample(df):\n",
    "    \"\"\"\n",
    "    Delete all entries before XDC-ID 68.000 due to them having partially corrupted / wrong data.\n",
    "    \"\"\"\n",
    "    \n",
    "    df = df[(df[\"pdc_nummer\"]<68000) & (df[\"pdc_nummer\"]>60000)].reset_index(drop=True)\n",
    "    \n",
    "    return df\n",
    "\n",
    "df_cleaned_3 = select_alternative_sample(df_cleaned_2)\n",
    "df_cleaned_4 = delete_unncessary_columns(df_cleaned_3)\n",
    "df_cleaned_5 = substitute_familie_int_str(df_cleaned_4)\n",
    "df_cleaned_6 = string_comma_to_dot_float(df_cleaned_5)\n",
    "df_cleaned_7 = anonymize_column_names(df_cleaned_6)"
   ]
  },
  {
   "cell_type": "code",
   "execution_count": null,
   "metadata": {},
   "outputs": [],
   "source": [
    "df_test = df_cleaned_7"
   ]
  },
  {
   "cell_type": "code",
   "execution_count": null,
   "metadata": {
    "scrolled": true
   },
   "outputs": [],
   "source": [
    "# AVG ALL QC_VOLUMEs TO YIELD SINGLE TARGET FEATURE\n",
    "qc1_vol = df_test[\"qc1_param_volume\"]\n",
    "qc2_vol = df_test[\"qc2_param_volume\"]\n",
    "qc3_vol = df_test[\"qc3_param_volume\"]\n",
    "qc4_vol = df_test[\"qc4_param_volume\"]\n",
    "\n",
    "# AVG ALL QC_VOLTAGEs\n",
    "qc1_voltage = df_test[\"qc1_param_1a\"]\n",
    "qc2_voltage = df_test[\"qc2_param_1a\"]\n",
    "qc3_voltage = df_test[\"qc3_param_1a\"]\n",
    "qc4_voltage = df_test[\"qc4_param_1a\"]\n",
    "\n",
    "# AVG ALL QC_PULSEs\n",
    "qc1_pulse = df_test[\"qc1_param_1b\"]\n",
    "qc2_pulse = df_test[\"qc2_param_1b\"]\n",
    "qc3_pulse = df_test[\"qc3_param_1b\"]\n",
    "qc4_pulse = df_test[\"qc4_param_1b\"]\n",
    "\n",
    "qc_volumes = list(zip(qc1_vol, qc2_vol, qc3_vol, qc4_vol))\n",
    "qc_voltages = list(zip(qc1_voltage, qc2_voltage, qc3_voltage, qc4_voltage))\n",
    "qc_pulses = list(zip(qc1_pulse, qc2_pulse, qc3_pulse, qc4_pulse))\n",
    "\n",
    "qc_volume_means = [np.nanmean(volume) for volume in qc_volumes]\n",
    "qc_voltage_means = [np.nanmean(voltage) for voltage in qc_voltages]\n",
    "qc_puls_means = [np.nanmean(puls) for puls in qc_pulses]\n",
    "\n",
    "# ADD NEW QC_MEAN COLUMNS TO DF\n",
    "df_test[\"qc_volume_mean\"] = qc_volume_means\n",
    "df_test[\"qc_param_1a_mean\"] = qc_voltage_means\n",
    "df_test[\"qc_param_1b_mean\"] = qc_puls_means\n",
    "\n",
    "# DROP SPECIFIC QC VOLUME, VOLTAGE, PULS COLUMNS & ONLY KEEP AVERAGED COLS\n",
    "df_test.drop(columns=[\"qc1_param_volume\", \"qc2_param_volume\", \"qc3_param_volume\",\"qc4_param_volume\",\n",
    "                        \"qc1_param_1a\",\"qc2_param_1a\",\"qc3_param_1a\",\"qc4_param_1a\",\n",
    "                        \"qc1_param_1b\",\"qc2_param_1b\",\"qc3_param_1b\",\"qc4_param_1b\"], inplace=True)"
   ]
  },
  {
   "cell_type": "code",
   "execution_count": null,
   "metadata": {},
   "outputs": [],
   "source": [
    "df_test = df_test[df_test[\"qc_volume_mean\"].notnull()].reset_index(drop=True)\n",
    "\n",
    "phase_mean = 74.92\n",
    "df_test[\"p_misc_phase\"].fillna(phase_mean, inplace=True)\n",
    "df_test[\"p_misc_pos\"].fillna(df_test[\"p_misc_pos\"].median(), inplace=True)"
   ]
  },
  {
   "cell_type": "code",
   "execution_count": null,
   "metadata": {},
   "outputs": [],
   "source": [
    "# DROP ROWS WHERE VALUE IS BELOW/ABOVE CRITICAL, SENSIBLE THRESHOLD\n",
    "print(len(df_test))\n",
    "df_test = df_test[(df_test[\"g_param_2a\"]>0) &\n",
    "                       (df_test[\"g_param_2a\"]<=100)]\n",
    "df_test = df_test[(df_test[\"g_param_2b\"]>0) &\n",
    "                       (df_test[\"g_param_2b\"]<=90)]\n",
    "df_test = df_test[(df_test[\"g_param_3d\"]>0) &\n",
    "                       (df_test[\"g_param_3d\"]<=7)]\n",
    "df_test = df_test[(df_test[\"g_param_3e\"]>=29) &\n",
    "                       (df_test[\"g_param_3e\"]<=37)]\n",
    "df_test = df_test[(df_test[\"g_param_3a\"]>=0) &\n",
    "                       (df_test[\"g_param_3a\"]<=1.4)]\n",
    "df_test = df_test[(df_test[\"g_param_3b\"]>0) &\n",
    "                       (df_test[\"g_param_3b\"]<=1.2)]\n",
    "df_test = df_test[(df_test[\"g_param_3c\"]>=0) &\n",
    "                       (df_test[\"g_param_3c\"]<=4)]\n",
    "df_test = df_test[(df_test[\"g_param_4\"]>=30) &\n",
    "                       (df_test[\"g_param_4\"]<=70)]\n",
    "\n",
    "# DROP ROWS WHERE QC VOLUME, VOLTAGE, PULSE IS BELOW/ABOVE CRITICAL, SENSIBLE THRESHOLD\n",
    "df_test = df_test[(df_test[\"qc_volume_mean\"]>=150) &\n",
    "                       (df_test[\"qc_volume_mean\"]<=650)]\n",
    "df_test = df_test[(df_test[\"qc_param_1a_mean\"]>=50) &\n",
    "                       (df_test[\"qc_param_1a_mean\"]<=170)]\n",
    "df_test = df_test[(df_test[\"qc_param_1b_mean\"]>=40) &\n",
    "                       (df_test[\"qc_param_1b_mean\"]<=55)]\n",
    "\n",
    "df_test.reset_index(drop=True, inplace=True)\n",
    "print(len(df_test))"
   ]
  },
  {
   "cell_type": "code",
   "execution_count": null,
   "metadata": {},
   "outputs": [],
   "source": [
    "test_results = df_test[\"qc_volume_mean\"]\n",
    "prediction_results = []"
   ]
  },
  {
   "cell_type": "code",
   "execution_count": null,
   "metadata": {},
   "outputs": [],
   "source": [
    "g_param_1a = df_test[\"g_param_1a\"] \n",
    "g_param_1b = df_test[\"g_param_1b\"] \n",
    "g_param_2a = df_test[\"g_param_2a\"] \n",
    "g_param_3a = df_test[\"g_param_3a\"]\n",
    "g_param_3b = df_test[\"g_param_3b\"] \n",
    "g_param_3c = df_test[\"g_param_3c\"] \n",
    "g_param_3d = df_test[\"g_param_3d\"] \n",
    "g_param_3e = df_test[\"g_param_3e\"] \n",
    "p_misc_phase = df_test[\"p_misc_phase\"]\n",
    "product_kind = df_test[\"product_kind\"] \n",
    "production_size = df_test[\"production_size\"] \n",
    "misc_take_1 = df_test[\"misc_take_1\"] \n",
    "misc_take_2 = df_test[\"misc_take_2\"] \n",
    "p_misc_pos = df_test[\"p_misc_pos\"]"
   ]
  },
  {
   "cell_type": "code",
   "execution_count": null,
   "metadata": {},
   "outputs": [],
   "source": [
    "row_parameters = df_test[[\"g_param_1a\", \"g_param_1b\", \"g_param_2a\", \"g_param_3a\", \"g_param_3b\", \"g_param_3c\",\n",
    "                        \"g_param_3d\", \"g_param_3e\", \"p_misc_phase\", \"product_kind\", \"production_size\", \n",
    "                        \"misc_take_1\", \"misc_take_2\", \"p_misc_pos\"]]\n",
    "for row in range(len(df_test)):\n",
    "    new_data = list(row_parameters.iloc[row,:])\n",
    "    new_data_scaled=std_scaler.transform(np.array(new_data).reshape(-1,len(new_data)))\n",
    "    result = model.predict(new_data_scaled)\n",
    "    prediction_results.append(result)\n",
    "    \n"
   ]
  },
  {
   "cell_type": "code",
   "execution_count": null,
   "metadata": {},
   "outputs": [],
   "source": [
    "prediction_results = [int(prediction_results[n][0]) for n,_ in enumerate(prediction_results)]\n",
    "\n",
    "difference = [test_results[idx] - prediction_results[idx] for idx,_ in enumerate(prediction_results)]\n",
    "\n",
    "print(f\"Prediction model overestimates volume by {np.abs(np.median(difference))} units on average!\")"
   ]
  },
  {
   "cell_type": "code",
   "execution_count": null,
   "metadata": {},
   "outputs": [],
   "source": [
    "fig, ax = plt.subplots(figsize=(10,7))\n",
    "plt.hist(difference, bins=20)\n",
    "plt.title(\"Result_volume - Prediction_volume\", size=14, weight=\"bold\")\n",
    "plt.xlabel(\"Volume Difference\")\n",
    "plt.show()"
   ]
  },
  {
   "cell_type": "code",
   "execution_count": 95,
   "metadata": {
    "collapsed": true
   },
   "outputs": [
    {
     "data": {
      "text/plain": [
       "[28,\n",
       " 106,\n",
       " 173,\n",
       " 391,\n",
       " 425,\n",
       " 467,\n",
       " 502,\n",
       " 508,\n",
       " 563,\n",
       " 838,\n",
       " 887,\n",
       " 391,\n",
       " 953,\n",
       " 887,\n",
       " 1048,\n",
       " 1064,\n",
       " 1121,\n",
       " 1177,\n",
       " 391]"
      ]
     },
     "execution_count": 95,
     "metadata": {},
     "output_type": "execute_result"
    }
   ],
   "source": []
  },
  {
   "cell_type": "code",
   "execution_count": 96,
   "metadata": {},
   "outputs": [
    {
     "data": {
      "text/html": [
       "<div>\n",
       "<style scoped>\n",
       "    .dataframe tbody tr th:only-of-type {\n",
       "        vertical-align: middle;\n",
       "    }\n",
       "\n",
       "    .dataframe tbody tr th {\n",
       "        vertical-align: top;\n",
       "    }\n",
       "\n",
       "    .dataframe thead th {\n",
       "        text-align: right;\n",
       "    }\n",
       "</style>\n",
       "<table border=\"1\" class=\"dataframe\">\n",
       "  <thead>\n",
       "    <tr style=\"text-align: right;\">\n",
       "      <th></th>\n",
       "      <th>production_size</th>\n",
       "      <th>product_family</th>\n",
       "      <th>product_kind</th>\n",
       "      <th>g_param_1a</th>\n",
       "      <th>g_param_1b</th>\n",
       "      <th>g_param_2a</th>\n",
       "      <th>g_param_2b</th>\n",
       "      <th>g_param_3a</th>\n",
       "      <th>g_param_3b</th>\n",
       "      <th>g_param_3c</th>\n",
       "      <th>g_param_3d</th>\n",
       "      <th>g_param_3e</th>\n",
       "      <th>g_param_4</th>\n",
       "      <th>misc_take_1</th>\n",
       "      <th>misc_take_2</th>\n",
       "      <th>p_misc_pos</th>\n",
       "      <th>p_misc_phase</th>\n",
       "      <th>qc_volume_mean</th>\n",
       "      <th>qc_param_1a_mean</th>\n",
       "      <th>qc_param_1b_mean</th>\n",
       "    </tr>\n",
       "  </thead>\n",
       "  <tbody>\n",
       "    <tr>\n",
       "      <th>28</th>\n",
       "      <td>4.00</td>\n",
       "      <td>1</td>\n",
       "      <td>1</td>\n",
       "      <td>20.10</td>\n",
       "      <td>9.50</td>\n",
       "      <td>63.62</td>\n",
       "      <td>56.08</td>\n",
       "      <td>0.41</td>\n",
       "      <td>1.00</td>\n",
       "      <td>2.30</td>\n",
       "      <td>5.82</td>\n",
       "      <td>32.80</td>\n",
       "      <td>46.74</td>\n",
       "      <td>3.00</td>\n",
       "      <td>3.00</td>\n",
       "      <td>0.00</td>\n",
       "      <td>74.92</td>\n",
       "      <td>257.50</td>\n",
       "      <td>77.00</td>\n",
       "      <td>46.50</td>\n",
       "    </tr>\n",
       "    <tr>\n",
       "      <th>106</th>\n",
       "      <td>8.00</td>\n",
       "      <td>1</td>\n",
       "      <td>1</td>\n",
       "      <td>10.30</td>\n",
       "      <td>3.80</td>\n",
       "      <td>77.13</td>\n",
       "      <td>73.37</td>\n",
       "      <td>1.12</td>\n",
       "      <td>0.70</td>\n",
       "      <td>2.90</td>\n",
       "      <td>6.09</td>\n",
       "      <td>29.50</td>\n",
       "      <td>57.13</td>\n",
       "      <td>3.00</td>\n",
       "      <td>3.00</td>\n",
       "      <td>0.00</td>\n",
       "      <td>74.92</td>\n",
       "      <td>365.00</td>\n",
       "      <td>91.00</td>\n",
       "      <td>46.00</td>\n",
       "    </tr>\n",
       "    <tr>\n",
       "      <th>173</th>\n",
       "      <td>7.00</td>\n",
       "      <td>1</td>\n",
       "      <td>1</td>\n",
       "      <td>6.40</td>\n",
       "      <td>20.90</td>\n",
       "      <td>81.54</td>\n",
       "      <td>68.38</td>\n",
       "      <td>0.70</td>\n",
       "      <td>0.70</td>\n",
       "      <td>2.40</td>\n",
       "      <td>5.70</td>\n",
       "      <td>31.10</td>\n",
       "      <td>52.82</td>\n",
       "      <td>3.00</td>\n",
       "      <td>3.00</td>\n",
       "      <td>0.00</td>\n",
       "      <td>74.92</td>\n",
       "      <td>323.00</td>\n",
       "      <td>90.25</td>\n",
       "      <td>47.75</td>\n",
       "    </tr>\n",
       "    <tr>\n",
       "      <th>391</th>\n",
       "      <td>5.00</td>\n",
       "      <td>1</td>\n",
       "      <td>7</td>\n",
       "      <td>6.80</td>\n",
       "      <td>29.00</td>\n",
       "      <td>68.07</td>\n",
       "      <td>57.46</td>\n",
       "      <td>0.51</td>\n",
       "      <td>0.64</td>\n",
       "      <td>2.00</td>\n",
       "      <td>5.84</td>\n",
       "      <td>32.10</td>\n",
       "      <td>53.30</td>\n",
       "      <td>3.00</td>\n",
       "      <td>3.00</td>\n",
       "      <td>0.00</td>\n",
       "      <td>0.00</td>\n",
       "      <td>294.00</td>\n",
       "      <td>89.00</td>\n",
       "      <td>49.00</td>\n",
       "    </tr>\n",
       "    <tr>\n",
       "      <th>425</th>\n",
       "      <td>4.00</td>\n",
       "      <td>1</td>\n",
       "      <td>7</td>\n",
       "      <td>17.60</td>\n",
       "      <td>45.00</td>\n",
       "      <td>60.35</td>\n",
       "      <td>55.53</td>\n",
       "      <td>0.98</td>\n",
       "      <td>0.46</td>\n",
       "      <td>1.70</td>\n",
       "      <td>5.35</td>\n",
       "      <td>34.20</td>\n",
       "      <td>44.83</td>\n",
       "      <td>3.00</td>\n",
       "      <td>3.00</td>\n",
       "      <td>0.00</td>\n",
       "      <td>74.92</td>\n",
       "      <td>217.00</td>\n",
       "      <td>77.00</td>\n",
       "      <td>47.00</td>\n",
       "    </tr>\n",
       "    <tr>\n",
       "      <th>467</th>\n",
       "      <td>3.00</td>\n",
       "      <td>1</td>\n",
       "      <td>7</td>\n",
       "      <td>2.70</td>\n",
       "      <td>3.40</td>\n",
       "      <td>58.91</td>\n",
       "      <td>53.26</td>\n",
       "      <td>0.35</td>\n",
       "      <td>0.36</td>\n",
       "      <td>1.40</td>\n",
       "      <td>4.79</td>\n",
       "      <td>33.80</td>\n",
       "      <td>43.80</td>\n",
       "      <td>2.00</td>\n",
       "      <td>2.00</td>\n",
       "      <td>0.00</td>\n",
       "      <td>74.92</td>\n",
       "      <td>196.00</td>\n",
       "      <td>75.00</td>\n",
       "      <td>48.00</td>\n",
       "    </tr>\n",
       "    <tr>\n",
       "      <th>502</th>\n",
       "      <td>6.00</td>\n",
       "      <td>1</td>\n",
       "      <td>7</td>\n",
       "      <td>29.10</td>\n",
       "      <td>48.00</td>\n",
       "      <td>73.82</td>\n",
       "      <td>66.07</td>\n",
       "      <td>0.37</td>\n",
       "      <td>0.69</td>\n",
       "      <td>1.80</td>\n",
       "      <td>6.16</td>\n",
       "      <td>31.90</td>\n",
       "      <td>53.04</td>\n",
       "      <td>1.00</td>\n",
       "      <td>1.00</td>\n",
       "      <td>0.00</td>\n",
       "      <td>74.92</td>\n",
       "      <td>351.00</td>\n",
       "      <td>81.00</td>\n",
       "      <td>47.00</td>\n",
       "    </tr>\n",
       "    <tr>\n",
       "      <th>508</th>\n",
       "      <td>6.00</td>\n",
       "      <td>1</td>\n",
       "      <td>7</td>\n",
       "      <td>4.20</td>\n",
       "      <td>55.00</td>\n",
       "      <td>75.31</td>\n",
       "      <td>62.58</td>\n",
       "      <td>0.28</td>\n",
       "      <td>1.04</td>\n",
       "      <td>1.70</td>\n",
       "      <td>5.66</td>\n",
       "      <td>31.30</td>\n",
       "      <td>55.44</td>\n",
       "      <td>3.00</td>\n",
       "      <td>3.00</td>\n",
       "      <td>0.00</td>\n",
       "      <td>74.92</td>\n",
       "      <td>355.00</td>\n",
       "      <td>82.00</td>\n",
       "      <td>47.00</td>\n",
       "    </tr>\n",
       "    <tr>\n",
       "      <th>563</th>\n",
       "      <td>5.00</td>\n",
       "      <td>1</td>\n",
       "      <td>4</td>\n",
       "      <td>27.00</td>\n",
       "      <td>36.80</td>\n",
       "      <td>70.32</td>\n",
       "      <td>60.79</td>\n",
       "      <td>0.97</td>\n",
       "      <td>0.62</td>\n",
       "      <td>2.30</td>\n",
       "      <td>5.98</td>\n",
       "      <td>34.10</td>\n",
       "      <td>49.96</td>\n",
       "      <td>2.00</td>\n",
       "      <td>2.00</td>\n",
       "      <td>0.00</td>\n",
       "      <td>74.92</td>\n",
       "      <td>304.00</td>\n",
       "      <td>85.50</td>\n",
       "      <td>48.50</td>\n",
       "    </tr>\n",
       "    <tr>\n",
       "      <th>838</th>\n",
       "      <td>4.00</td>\n",
       "      <td>1</td>\n",
       "      <td>7</td>\n",
       "      <td>7.00</td>\n",
       "      <td>14.00</td>\n",
       "      <td>67.80</td>\n",
       "      <td>60.80</td>\n",
       "      <td>0.58</td>\n",
       "      <td>0.60</td>\n",
       "      <td>1.70</td>\n",
       "      <td>5.27</td>\n",
       "      <td>31.90</td>\n",
       "      <td>52.48</td>\n",
       "      <td>2.00</td>\n",
       "      <td>2.00</td>\n",
       "      <td>0.00</td>\n",
       "      <td>58.62</td>\n",
       "      <td>261.00</td>\n",
       "      <td>100.00</td>\n",
       "      <td>47.00</td>\n",
       "    </tr>\n",
       "    <tr>\n",
       "      <th>887</th>\n",
       "      <td>4.00</td>\n",
       "      <td>1</td>\n",
       "      <td>7</td>\n",
       "      <td>4.80</td>\n",
       "      <td>45.00</td>\n",
       "      <td>63.95</td>\n",
       "      <td>56.16</td>\n",
       "      <td>0.47</td>\n",
       "      <td>0.50</td>\n",
       "      <td>1.40</td>\n",
       "      <td>5.60</td>\n",
       "      <td>33.10</td>\n",
       "      <td>47.91</td>\n",
       "      <td>2.00</td>\n",
       "      <td>2.00</td>\n",
       "      <td>0.00</td>\n",
       "      <td>74.92</td>\n",
       "      <td>261.00</td>\n",
       "      <td>83.00</td>\n",
       "      <td>48.50</td>\n",
       "    </tr>\n",
       "    <tr>\n",
       "      <th>953</th>\n",
       "      <td>1.00</td>\n",
       "      <td>1</td>\n",
       "      <td>7</td>\n",
       "      <td>4.80</td>\n",
       "      <td>0.30</td>\n",
       "      <td>68.75</td>\n",
       "      <td>58.15</td>\n",
       "      <td>0.14</td>\n",
       "      <td>0.28</td>\n",
       "      <td>2.00</td>\n",
       "      <td>5.33</td>\n",
       "      <td>33.10</td>\n",
       "      <td>51.33</td>\n",
       "      <td>0.00</td>\n",
       "      <td>0.00</td>\n",
       "      <td>0.00</td>\n",
       "      <td>74.92</td>\n",
       "      <td>189.00</td>\n",
       "      <td>99.00</td>\n",
       "      <td>47.00</td>\n",
       "    </tr>\n",
       "    <tr>\n",
       "      <th>1048</th>\n",
       "      <td>5.00</td>\n",
       "      <td>1</td>\n",
       "      <td>1</td>\n",
       "      <td>2.60</td>\n",
       "      <td>4.20</td>\n",
       "      <td>73.10</td>\n",
       "      <td>60.91</td>\n",
       "      <td>0.67</td>\n",
       "      <td>0.85</td>\n",
       "      <td>1.90</td>\n",
       "      <td>5.72</td>\n",
       "      <td>34.20</td>\n",
       "      <td>55.09</td>\n",
       "      <td>3.00</td>\n",
       "      <td>4.00</td>\n",
       "      <td>0.00</td>\n",
       "      <td>74.92</td>\n",
       "      <td>322.00</td>\n",
       "      <td>94.50</td>\n",
       "      <td>48.50</td>\n",
       "    </tr>\n",
       "    <tr>\n",
       "      <th>1064</th>\n",
       "      <td>5.00</td>\n",
       "      <td>1</td>\n",
       "      <td>1</td>\n",
       "      <td>16.10</td>\n",
       "      <td>4.90</td>\n",
       "      <td>69.70</td>\n",
       "      <td>59.84</td>\n",
       "      <td>0.24</td>\n",
       "      <td>0.70</td>\n",
       "      <td>2.20</td>\n",
       "      <td>5.75</td>\n",
       "      <td>34.00</td>\n",
       "      <td>47.91</td>\n",
       "      <td>2.00</td>\n",
       "      <td>3.00</td>\n",
       "      <td>0.00</td>\n",
       "      <td>74.92</td>\n",
       "      <td>233.00</td>\n",
       "      <td>87.00</td>\n",
       "      <td>47.00</td>\n",
       "    </tr>\n",
       "    <tr>\n",
       "      <th>1121</th>\n",
       "      <td>6.00</td>\n",
       "      <td>1</td>\n",
       "      <td>1</td>\n",
       "      <td>9.10</td>\n",
       "      <td>2.20</td>\n",
       "      <td>77.09</td>\n",
       "      <td>68.00</td>\n",
       "      <td>0.26</td>\n",
       "      <td>0.37</td>\n",
       "      <td>1.70</td>\n",
       "      <td>6.20</td>\n",
       "      <td>31.80</td>\n",
       "      <td>52.70</td>\n",
       "      <td>2.00</td>\n",
       "      <td>3.00</td>\n",
       "      <td>0.00</td>\n",
       "      <td>74.92</td>\n",
       "      <td>366.00</td>\n",
       "      <td>88.75</td>\n",
       "      <td>47.25</td>\n",
       "    </tr>\n",
       "    <tr>\n",
       "      <th>1177</th>\n",
       "      <td>7.00</td>\n",
       "      <td>1</td>\n",
       "      <td>1</td>\n",
       "      <td>0.50</td>\n",
       "      <td>22.00</td>\n",
       "      <td>78.11</td>\n",
       "      <td>70.07</td>\n",
       "      <td>0.28</td>\n",
       "      <td>0.42</td>\n",
       "      <td>1.70</td>\n",
       "      <td>6.01</td>\n",
       "      <td>31.20</td>\n",
       "      <td>58.51</td>\n",
       "      <td>2.00</td>\n",
       "      <td>3.00</td>\n",
       "      <td>0.00</td>\n",
       "      <td>74.92</td>\n",
       "      <td>326.50</td>\n",
       "      <td>95.75</td>\n",
       "      <td>48.25</td>\n",
       "    </tr>\n",
       "  </tbody>\n",
       "</table>\n",
       "</div>"
      ],
      "text/plain": [
       "      production_size  product_family  product_kind  g_param_1a  g_param_1b  \\\n",
       "28               4.00               1             1       20.10        9.50   \n",
       "106              8.00               1             1       10.30        3.80   \n",
       "173              7.00               1             1        6.40       20.90   \n",
       "391              5.00               1             7        6.80       29.00   \n",
       "425              4.00               1             7       17.60       45.00   \n",
       "467              3.00               1             7        2.70        3.40   \n",
       "502              6.00               1             7       29.10       48.00   \n",
       "508              6.00               1             7        4.20       55.00   \n",
       "563              5.00               1             4       27.00       36.80   \n",
       "838              4.00               1             7        7.00       14.00   \n",
       "887              4.00               1             7        4.80       45.00   \n",
       "953              1.00               1             7        4.80        0.30   \n",
       "1048             5.00               1             1        2.60        4.20   \n",
       "1064             5.00               1             1       16.10        4.90   \n",
       "1121             6.00               1             1        9.10        2.20   \n",
       "1177             7.00               1             1        0.50       22.00   \n",
       "\n",
       "      g_param_2a  g_param_2b  g_param_3a  g_param_3b  g_param_3c  g_param_3d  \\\n",
       "28         63.62       56.08        0.41        1.00        2.30        5.82   \n",
       "106        77.13       73.37        1.12        0.70        2.90        6.09   \n",
       "173        81.54       68.38        0.70        0.70        2.40        5.70   \n",
       "391        68.07       57.46        0.51        0.64        2.00        5.84   \n",
       "425        60.35       55.53        0.98        0.46        1.70        5.35   \n",
       "467        58.91       53.26        0.35        0.36        1.40        4.79   \n",
       "502        73.82       66.07        0.37        0.69        1.80        6.16   \n",
       "508        75.31       62.58        0.28        1.04        1.70        5.66   \n",
       "563        70.32       60.79        0.97        0.62        2.30        5.98   \n",
       "838        67.80       60.80        0.58        0.60        1.70        5.27   \n",
       "887        63.95       56.16        0.47        0.50        1.40        5.60   \n",
       "953        68.75       58.15        0.14        0.28        2.00        5.33   \n",
       "1048       73.10       60.91        0.67        0.85        1.90        5.72   \n",
       "1064       69.70       59.84        0.24        0.70        2.20        5.75   \n",
       "1121       77.09       68.00        0.26        0.37        1.70        6.20   \n",
       "1177       78.11       70.07        0.28        0.42        1.70        6.01   \n",
       "\n",
       "      g_param_3e  g_param_4  misc_take_1  misc_take_2  p_misc_pos  \\\n",
       "28         32.80      46.74         3.00         3.00        0.00   \n",
       "106        29.50      57.13         3.00         3.00        0.00   \n",
       "173        31.10      52.82         3.00         3.00        0.00   \n",
       "391        32.10      53.30         3.00         3.00        0.00   \n",
       "425        34.20      44.83         3.00         3.00        0.00   \n",
       "467        33.80      43.80         2.00         2.00        0.00   \n",
       "502        31.90      53.04         1.00         1.00        0.00   \n",
       "508        31.30      55.44         3.00         3.00        0.00   \n",
       "563        34.10      49.96         2.00         2.00        0.00   \n",
       "838        31.90      52.48         2.00         2.00        0.00   \n",
       "887        33.10      47.91         2.00         2.00        0.00   \n",
       "953        33.10      51.33         0.00         0.00        0.00   \n",
       "1048       34.20      55.09         3.00         4.00        0.00   \n",
       "1064       34.00      47.91         2.00         3.00        0.00   \n",
       "1121       31.80      52.70         2.00         3.00        0.00   \n",
       "1177       31.20      58.51         2.00         3.00        0.00   \n",
       "\n",
       "      p_misc_phase  qc_volume_mean  qc_param_1a_mean  qc_param_1b_mean  \n",
       "28           74.92          257.50             77.00             46.50  \n",
       "106          74.92          365.00             91.00             46.00  \n",
       "173          74.92          323.00             90.25             47.75  \n",
       "391           0.00          294.00             89.00             49.00  \n",
       "425          74.92          217.00             77.00             47.00  \n",
       "467          74.92          196.00             75.00             48.00  \n",
       "502          74.92          351.00             81.00             47.00  \n",
       "508          74.92          355.00             82.00             47.00  \n",
       "563          74.92          304.00             85.50             48.50  \n",
       "838          58.62          261.00            100.00             47.00  \n",
       "887          74.92          261.00             83.00             48.50  \n",
       "953          74.92          189.00             99.00             47.00  \n",
       "1048         74.92          322.00             94.50             48.50  \n",
       "1064         74.92          233.00             87.00             47.00  \n",
       "1121         74.92          366.00             88.75             47.25  \n",
       "1177         74.92          326.50             95.75             48.25  "
      ]
     },
     "execution_count": 96,
     "metadata": {},
     "output_type": "execute_result"
    }
   ],
   "source": [
    "df_test.loc[ df_test.index.isin([difference.index(val) for val in [dif for dif in difference if dif <-75]]), : ]"
   ]
  }
 ],
 "metadata": {
  "celltoolbar": "Tags",
  "kernelspec": {
   "display_name": "Python 3 (ipykernel)",
   "language": "python",
   "name": "python3"
  },
  "language_info": {
   "codemirror_mode": {
    "name": "ipython",
    "version": 3
   },
   "file_extension": ".py",
   "mimetype": "text/x-python",
   "name": "python",
   "nbconvert_exporter": "python",
   "pygments_lexer": "ipython3",
   "version": "3.9.12"
  },
  "toc": {
   "base_numbering": 1,
   "nav_menu": {},
   "number_sections": true,
   "sideBar": true,
   "skip_h1_title": false,
   "title_cell": "Table of Contents",
   "title_sidebar": "Contents",
   "toc_cell": false,
   "toc_position": {
    "height": "calc(100% - 180px)",
    "left": "10px",
    "top": "150px",
    "width": "341px"
   },
   "toc_section_display": true,
   "toc_window_display": true
  },
  "varInspector": {
   "cols": {
    "lenName": 16,
    "lenType": 16,
    "lenVar": 40
   },
   "kernels_config": {
    "python": {
     "delete_cmd_postfix": "",
     "delete_cmd_prefix": "del ",
     "library": "var_list.py",
     "varRefreshCmd": "print(var_dic_list())"
    },
    "r": {
     "delete_cmd_postfix": ") ",
     "delete_cmd_prefix": "rm(",
     "library": "var_list.r",
     "varRefreshCmd": "cat(var_dic_list()) "
    }
   },
   "types_to_exclude": [
    "module",
    "function",
    "builtin_function_or_method",
    "instance",
    "_Feature"
   ],
   "window_display": false
  }
 },
 "nbformat": 4,
 "nbformat_minor": 4
}
