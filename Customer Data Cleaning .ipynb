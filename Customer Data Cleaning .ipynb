{
 "cells": [
  {
   "cell_type": "markdown",
   "id": "d553bf17",
   "metadata": {},
   "source": [
    "# TO DO LIST\n",
    "\n",
    "-Clean Data Columns for customer data\n",
    "\n",
    "-Get list of unique customers\n",
    "\n",
    "-Anonymise customers\n",
    "\n",
    "-Drop unnecessary columns\n",
    "\n",
    "-Make a new column containing XDC, Size, Coating seperated with \"-\"\n",
    "\n",
    "-Get list of all the unique combinations XDC-Size-Coating\n",
    "\n",
    "-Anonymise the names in this new column\n",
    "\n",
    "-Check the difference between order date and delivery date as well as targeted delivery date\n",
    "\n",
    "-Make a new ought delivery date column for the null values\n"
   ]
  },
  {
   "cell_type": "code",
   "execution_count": 1,
   "id": "567635f0",
   "metadata": {},
   "outputs": [
    {
     "ename": "SyntaxError",
     "evalue": "invalid syntax (751123005.py, line 3)",
     "output_type": "error",
     "traceback": [
      "\u001b[0;36m  Input \u001b[0;32mIn [1]\u001b[0;36m\u001b[0m\n\u001b[0;31m    customer_df =\u001b[0m\n\u001b[0m                  ^\u001b[0m\n\u001b[0;31mSyntaxError\u001b[0m\u001b[0;31m:\u001b[0m invalid syntax\n"
     ]
    }
   ],
   "source": [
    "import pandas as pd\n",
    "\n",
    "customer_df = pd.read_csv('data.csv')"
   ]
  }
 ],
 "metadata": {
  "kernelspec": {
   "display_name": "Python 3 (ipykernel)",
   "language": "python",
   "name": "python3"
  },
  "language_info": {
   "codemirror_mode": {
    "name": "ipython",
    "version": 3
   },
   "file_extension": ".py",
   "mimetype": "text/x-python",
   "name": "python",
   "nbconvert_exporter": "python",
   "pygments_lexer": "ipython3",
   "version": "3.9.12"
  },
  "toc": {
   "base_numbering": 1,
   "nav_menu": {},
   "number_sections": true,
   "sideBar": true,
   "skip_h1_title": false,
   "title_cell": "Table of Contents",
   "title_sidebar": "Contents",
   "toc_cell": false,
   "toc_position": {},
   "toc_section_display": true,
   "toc_window_display": false
  }
 },
 "nbformat": 4,
 "nbformat_minor": 5
}
